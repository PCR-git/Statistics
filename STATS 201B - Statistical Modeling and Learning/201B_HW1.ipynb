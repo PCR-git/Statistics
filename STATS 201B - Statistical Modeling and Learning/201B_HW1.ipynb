{
 "cells": [
  {
   "cell_type": "markdown",
   "metadata": {},
   "source": [
    "## Stats 201B\n",
    "## Homework 1\n",
    "### Peter Racioppo"
   ]
  },
  {
   "cell_type": "code",
   "execution_count": 25,
   "metadata": {},
   "outputs": [],
   "source": [
    "import numpy as np\n",
    "import math\n",
    "from matplotlib import pyplot as plt\n",
    "import scipy.stats"
   ]
  },
  {
   "cell_type": "code",
   "execution_count": 51,
   "metadata": {},
   "outputs": [],
   "source": [
    "n = 20\n",
    "alpha = (np.arange(n)/n)[1:]\n",
    "z = scipy.stats.norm.ppf(alpha)\n",
    "c = (z/np.sqrt(n)-1/4)*(n/2)\n",
    "z2 = ((1/4)+(2*c/n)-0.5)*np.sqrt(n)\n",
    "beta = np.flip(scipy.stats.norm.cdf(z2,0))"
   ]
  },
  {
   "cell_type": "code",
   "execution_count": 59,
   "metadata": {},
   "outputs": [],
   "source": [
    "n = 10\n",
    "alpha_10 = (np.arange(n)/n)[1:]\n",
    "z_10 = scipy.stats.norm.ppf(alpha_10)\n",
    "c_10 = (z_10/np.sqrt(n)-1/4)*(n/2)\n",
    "z2_10 = ((1/4)+(2*c_10/n)-0.5)*np.sqrt(n)\n",
    "beta_10 = np.flip(scipy.stats.norm.cdf(z2_10,0))"
   ]
  },
  {
   "cell_type": "code",
   "execution_count": 65,
   "metadata": {},
   "outputs": [
    {
     "data": {
      "image/png": "[encoded data removed]",
      "text/plain": [
       "<Figure size 432x288 with 1 Axes>"
      ]
     },
     "metadata": {
      "needs_background": "light"
     },
     "output_type": "display_data"
    }
   ],
   "source": [
    "plt.scatter(alpha,beta,color='blue')\n",
    "plt.scatter(alpha_10,beta_10,color='red')\n",
    "plt.xlabel('alpha')\n",
    "plt.ylabel('beta')\n",
    "plt.legend(('n=20','n=10'),scatterpoints=1,loc='lower left',fontsize=8)\n",
    "plt.xlim(0,1)\n",
    "plt.ylim(0,0.3)\n",
    "plt.grid()\n",
    "plt.show()"
   ]
  },
  {
   "cell_type": "code",
   "execution_count": null,
   "metadata": {},
   "outputs": [],
   "source": [
    "# Increasing n decreases the values of alpha and beta."
   ]
  },
  {
   "cell_type": "code",
   "execution_count": 212,
   "metadata": {},
   "outputs": [],
   "source": [
    "# ------------------------------------------------------\n",
    "# Question 5"
   ]
  },
  {
   "cell_type": "code",
   "execution_count": 69,
   "metadata": {},
   "outputs": [],
   "source": [
    "d = np.zeros(200)\n",
    "p = np.zeros(200)\n",
    "for j in np.arange(200):\n",
    "    x = np.zeros(500)\n",
    "    mu = np.zeros(500)\n",
    "    for i in np.arange(500):\n",
    "        mu[i] = 3*(i+1)/500\n",
    "        x[i] = np.random.normal(mu[i],1)\n",
    "    imax = np.argmax(x)\n",
    "    avg = np.sum(x)/500\n",
    "    mu_avg = np.sum(mu)/500\n",
    "    d[j] = x[imax] - mu[imax]\n",
    "    p[j] = avg - mu_avg\n",
    "# print(d)"
   ]
  },
  {
   "cell_type": "code",
   "execution_count": 73,
   "metadata": {},
   "outputs": [
    {
     "data": {
      "image/png": "[encoded data removed]",
      "text/plain": [
       "<Figure size 432x288 with 1 Axes>"
      ]
     },
     "metadata": {
      "needs_background": "light"
     },
     "output_type": "display_data"
    }
   ],
   "source": [
    "hist, bin_edges = np.histogram(d, density=True)\n",
    "plt.hist(d, bins='auto',edgecolor='white', linewidth=1.2)\n",
    "# plt.hist(p, bins ='auto')\n",
    "plt.xlabel('d = x_{i_max} - mu_{i_max}')\n",
    "plt.ylabel('Frequency')\n",
    "plt.grid()\n",
    "plt.show()"
   ]
  },
  {
   "cell_type": "code",
   "execution_count": null,
   "metadata": {},
   "outputs": [],
   "source": [
    "# In Figure 3.4, x_610 = 5.29 was likely an overestimate of θ_610 because\n",
    "# the investigators in the study were selecting the largest values of θ.\n",
    "# But the largest values of θ would tend to have, on average, more random\n",
    "# noise contributing to their value than those values near the center of\n",
    "# the distribution, which means there is a selection bias on the largest\n",
    "# values of θ.\n",
    "\n",
    "# The method in this problem repeats the experiment with mu values shifted up.\n",
    "# Averaged over many trials, this has the effect of removing the bias toward\n",
    "# larger values, within the range over which the value of the mean varies,\n",
    "# since the selection bias effects different points as the mean changes."
   ]
  }
 ],
 "metadata": {
  "kernelspec": {
   "display_name": "Python 3",
   "language": "python",
   "name": "python3"
  },
  "language_info": {
   "codemirror_mode": {
    "name": "ipython",
    "version": 3
   },
   "file_extension": ".py",
   "mimetype": "text/x-python",
   "name": "python",
   "nbconvert_exporter": "python",
   "pygments_lexer": "ipython3",
   "version": "3.7.4"
  }
 },
 "nbformat": 4,
 "nbformat_minor": 2
}

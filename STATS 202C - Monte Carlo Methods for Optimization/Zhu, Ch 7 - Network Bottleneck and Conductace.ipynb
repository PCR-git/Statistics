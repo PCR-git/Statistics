{
 "cells": [
  {
   "cell_type": "markdown",
   "metadata": {},
   "source": [
    "# Stats 202C\n",
    "\n",
    "## Monte Carlo Methods (Ch. 7)\n",
    "\n",
    "## Peter Racioppo"
   ]
  },
  {
   "cell_type": "code",
   "execution_count": 1,
   "metadata": {},
   "outputs": [],
   "source": [
    "# Imports\n",
    "\n",
    "import numpy as np\n",
    "import matplotlib.pyplot as plt\n",
    "from pylab import rcParams\n",
    "\n",
    "import random\n",
    "import math\n",
    "from scipy.linalg import eig"
   ]
  },
  {
   "cell_type": "markdown",
   "metadata": {},
   "source": [
    "### Problem 1.\n",
    "### Consider the Markov kernel for the five families living in a pacific island, with slightly changed numbers."
   ]
  },
  {
   "cell_type": "code",
   "execution_count": 3,
   "metadata": {},
   "outputs": [],
   "source": [
    "K = np.array([[0.1, 0.8, 0.1, 0.0, 0.0],\n",
    "              [0.3, 0.0, 0.7, 0.0, 0.0],\n",
    "              [0.1, 0.6, 0.0, 0.3, 0.0],\n",
    "              [0.0, 0.0, 0.1, 0.6, 0.3],\n",
    "              [0.0, 0.0, 0.2, 0.4, 0.4]])"
   ]
  },
  {
   "cell_type": "markdown",
   "metadata": {},
   "source": [
    "### This transition matrix defines a directed graph G = <V,E> where V = {1, 2, 3, 4, 5} is the set of states, and\n",
    "### E = {e = (x,y) : K(x,y) > 0} is a set of directed edges."
   ]
  },
  {
   "cell_type": "markdown",
   "metadata": {},
   "source": [
    "### (1.) Draw the graph G and calculate the invariant probability π(x) for the five states x ∈ {1, 2, 3, 4, 5}; and compute the value of λ_slem."
   ]
  },
  {
   "cell_type": "code",
   "execution_count": 4,
   "metadata": {},
   "outputs": [],
   "source": [
    "def f_Plot_Graph(G0):\n",
    "    import networkx as nx\n",
    "    n = np.shape(G0)[0]\n",
    "    options = {'node_color': 'gray'}\n",
    "    G = nx.DiGraph()\n",
    "    for i in range(n):\n",
    "        for j in range(n):\n",
    "            if G0[i][j] == 1:\n",
    "                G.add_edge(i,j)\n",
    "    import matplotlib.pyplot as plt\n",
    "    nx.draw(G, with_labels=True, font_weight='bold', **options)\n",
    "    plt.show()"
   ]
  },
  {
   "cell_type": "code",
   "execution_count": 8,
   "metadata": {},
   "outputs": [
    {
     "data": {
      "image/png": "[encoded data removed]",
      "text/plain": [
       "<Figure size 432x288 with 1 Axes>"
      ]
     },
     "metadata": {},
     "output_type": "display_data"
    }
   ],
   "source": [
    "import warnings\n",
    "warnings.filterwarnings(\"ignore\")\n",
    "\n",
    "adj = np.double((K>0))\n",
    "f_Plot_Graph(adj)"
   ]
  },
  {
   "cell_type": "code",
   "execution_count": 6,
   "metadata": {},
   "outputs": [],
   "source": [
    "# import networkx as nx\n",
    "# G = nx.from_numpy_matrix(np.matrix(K), create_using=nx.DiGraph)\n",
    "# layout = nx.spring_layout(G)\n",
    "# nx.draw(G, layout)\n",
    "# nx.draw_networkx_edge_labels(G, pos=layout)\n",
    "# plt.show()"
   ]
  },
  {
   "cell_type": "code",
   "execution_count": 8,
   "metadata": {},
   "outputs": [],
   "source": [
    "# This function computes the stationary\n",
    "# distribution of a matrix K.\n",
    "def f_Stationary(K):\n",
    "    # Get eigenvals and left and right eigenvecs:\n",
    "    w, vl, vr = eig(K, left=True)\n",
    "    # Get indices of eigenvals by largest modulus:\n",
    "    idx = np.abs(w).argsort()[::-1]\n",
    "    # Sort eigenvals/vecs by largest modulus:\n",
    "    w = w[idx]\n",
    "    vl = vl[:,idx]\n",
    "    vr = vr[:,idx]\n",
    "    u1 = vl[:,0] # First left eigenvec\n",
    "    v1 = vr[:,0] # First right eigenvec\n",
    "    Kn = np.real(np.multiply.outer(v1, u1)) # K^n\n",
    "    pi1 = Kn[0,:] # Stationary distribution\n",
    "    \n",
    "    nu = np.ones(np.shape(K)[0])/np.shape(K)[0]\n",
    "    Kn2 = np.linalg.matrix_power(K,1000)\n",
    "    pi2 = np.matmul(nu,Kn)\n",
    "    \n",
    "    # Renormalize (not sure why this is necessary?)\n",
    "    pi1 = pi1/np.sum(pi1)\n",
    "    pi2 = pi2/np.sum(pi2)\n",
    "    \n",
    "    return pi1, pi2"
   ]
  },
  {
   "cell_type": "code",
   "execution_count": 15,
   "metadata": {},
   "outputs": [],
   "source": [
    "# This function computes the stationary\n",
    "# distribution of a matrix K.\n",
    "def f_Stationary2(K):\n",
    "    import warnings\n",
    "    warnings.filterwarnings(\"ignore\")\n",
    "    n = K.shape[0]\n",
    "    A = (np.eye(n) - K).T\n",
    "    a = np.vstack((A, np.ones(n)))\n",
    "    b = np.matrix([0]*n + [1]).T\n",
    "    pi = np.linalg.lstsq(a,b)[0].T\n",
    "    return np.squeeze(np.asarray(pi))"
   ]
  },
  {
   "cell_type": "code",
   "execution_count": 16,
   "metadata": {},
   "outputs": [
    {
     "name": "stdout",
     "output_type": "stream",
     "text": [
      "The eigenvalues of K are:\n",
      "[ 1.        +0.j  0.77309315+0.j -0.74733351+0.j  0.11149688+0.j\n",
      " -0.03725652+0.j]\n"
     ]
    }
   ],
   "source": [
    "# w: The eigenvalues, each repeated according to its multiplicity.\n",
    "w, vl, vr = eig(K, left=True)\n",
    "    \n",
    "# Get indices of eigenvals by largest modulus:\n",
    "idx = np.abs(w).argsort()[::-1]\n",
    "# Sort eigenvals/vecs by largest modulus:\n",
    "w = w[idx]\n",
    "\n",
    "print(\"The eigenvalues of K are:\")\n",
    "print(w)"
   ]
  },
  {
   "cell_type": "code",
   "execution_count": 17,
   "metadata": {},
   "outputs": [
    {
     "name": "stdout",
     "output_type": "stream",
     "text": [
      "The invariant probability of K is:\n",
      "[0.09195402 0.20361248 0.21674877 0.32512315 0.16256158]\n"
     ]
    }
   ],
   "source": [
    "# All three methods for computing pi return the same answer:\n",
    "pi1,pi2 = f_Stationary(K)\n",
    "pi = f_Stationary2(K)\n",
    "\n",
    "# print(pi1)\n",
    "# print(np.matmul(pi1,K)-pi1)\n",
    "# print(np.sum(pi1))\n",
    "\n",
    "print(\"The invariant probability of K is:\")\n",
    "print(pi)\n",
    "# print(np.matmul(pi,K)-pi)\n",
    "# print(np.sum(pi))"
   ]
  },
  {
   "cell_type": "code",
   "execution_count": 18,
   "metadata": {},
   "outputs": [
    {
     "name": "stdout",
     "output_type": "stream",
     "text": [
      "λ_slem =  0.7730931498158939\n"
     ]
    }
   ],
   "source": [
    "lambda_slem = np.sqrt(np.real(w[1])**2 + np.imag(w[1])**2)\n",
    "\n",
    "# 'abs' does the same thing:\n",
    "lambda_slem = np.abs(w[1])\n",
    "print(\"λ_slem = \", lambda_slem)"
   ]
  },
  {
   "cell_type": "markdown",
   "metadata": {},
   "source": [
    "### Now we’ll try to verify the bounds of λ_slem by the following two concepts that we studied in this chapter – bottleneck and conductance."
   ]
  },
  {
   "cell_type": "markdown",
   "metadata": {},
   "source": [
    "### (2.) Which edge e = (x,y) is the bottleneck of G? (you may make a guess based on the graph connectivity first, and then calculate by its definition); and calculate the Bottleneck κ of the graph G. Verify the Poincare inequality:\n",
    "### λ_slem ≤ 1− 1/κ."
   ]
  },
  {
   "cell_type": "code",
   "execution_count": 19,
   "metadata": {},
   "outputs": [],
   "source": [
    "# Adjacency matrix of K:\n",
    "G = np.double((K>0))\n",
    "# print(G)\n",
    "num_edges = int(np.sum(G)) # Number of edges\n",
    "# print(num_edges)"
   ]
  },
  {
   "cell_type": "code",
   "execution_count": 20,
   "metadata": {},
   "outputs": [],
   "source": [
    "# Find the number of edges in an adjacency matrix and store them in edge_vec.\n",
    "def f_edges(G):\n",
    "    n = np.shape(G)[0]\n",
    "    edge_vec = []\n",
    "    for i in np.arange(n):\n",
    "        for j in np.arange(n):\n",
    "            if G[i,j]==1:\n",
    "                edge_vec.append([i,j])\n",
    "    return edge_vec"
   ]
  },
  {
   "cell_type": "code",
   "execution_count": 21,
   "metadata": {},
   "outputs": [
    {
     "name": "stdout",
     "output_type": "stream",
     "text": [
      "[[0, 0], [0, 1], [0, 2], [1, 0], [1, 2], [2, 0], [2, 1], [2, 3], [3, 2], [3, 3], [3, 4], [4, 2], [4, 3], [4, 4]]\n",
      "Number of edges =  14\n"
     ]
    }
   ],
   "source": [
    "edge_vec_G = f_edges(G)\n",
    "\n",
    "print(edge_vec_G)\n",
    "print(\"Number of edges = \", np.shape(edge_vec_G)[0])"
   ]
  },
  {
   "cell_type": "code",
   "execution_count": 22,
   "metadata": {},
   "outputs": [
    {
     "data": {
      "text/plain": [
       "array([[1., 1., 1., 0., 0., 0., 0., 0., 0., 0., 0., 0., 0., 0.],\n",
       "       [0., 0., 0., 1., 1., 0., 0., 0., 0., 0., 0., 0., 0., 0.],\n",
       "       [0., 0., 0., 0., 0., 1., 1., 1., 0., 0., 0., 0., 0., 0.],\n",
       "       [1., 1., 1., 0., 0., 0., 0., 0., 0., 0., 0., 0., 0., 0.],\n",
       "       [0., 0., 0., 0., 0., 1., 1., 1., 0., 0., 0., 0., 0., 0.],\n",
       "       [1., 1., 1., 0., 0., 0., 0., 0., 0., 0., 0., 0., 0., 0.],\n",
       "       [0., 0., 0., 1., 1., 0., 0., 0., 0., 0., 0., 0., 0., 0.],\n",
       "       [0., 0., 0., 0., 0., 0., 0., 0., 1., 1., 1., 0., 0., 0.],\n",
       "       [0., 0., 0., 0., 0., 1., 1., 1., 0., 0., 0., 0., 0., 0.],\n",
       "       [0., 0., 0., 0., 0., 0., 0., 0., 1., 1., 1., 0., 0., 0.],\n",
       "       [0., 0., 0., 0., 0., 0., 0., 0., 0., 0., 0., 1., 1., 1.],\n",
       "       [0., 0., 0., 0., 0., 1., 1., 1., 0., 0., 0., 0., 0., 0.],\n",
       "       [0., 0., 0., 0., 0., 0., 0., 0., 1., 1., 1., 0., 0., 0.],\n",
       "       [0., 0., 0., 0., 0., 0., 0., 0., 0., 0., 0., 1., 1., 1.]])"
      ]
     },
     "execution_count": 22,
     "metadata": {},
     "output_type": "execute_result"
    }
   ],
   "source": [
    "# Build G0 matrix:\n",
    "# (Each vertex in G0 is an edge in G. Vertices in G0 have an edge between them\n",
    "# if and only if the corresponding edges in G meet at some vertex.)\n",
    "G0 = np.zeros((num_edges,num_edges))\n",
    "for i in np.arange(num_edges):\n",
    "    for j in np.arange(num_edges):\n",
    "       if edge_vec_G[i][1] == edge_vec_G[j][0]:\n",
    "            G0[i,j] = 1\n",
    "G0"
   ]
  },
  {
   "cell_type": "code",
   "execution_count": 412,
   "metadata": {},
   "outputs": [
    {
     "data": {
      "image/png": "[encoded data removed]",
      "text/plain": [
       "<Figure size 432x288 with 1 Axes>"
      ]
     },
     "metadata": {},
     "output_type": "display_data"
    }
   ],
   "source": [
    "f_Plot_Graph(G0)"
   ]
  },
  {
   "cell_type": "code",
   "execution_count": 23,
   "metadata": {},
   "outputs": [
    {
     "name": "stdout",
     "output_type": "stream",
     "text": [
      "[[0, 0], [0, 1], [0, 2], [1, 3], [1, 4], [2, 5], [2, 6], [2, 7], [3, 0], [3, 1], [3, 2], [4, 5], [4, 6], [4, 7], [5, 0], [5, 1], [5, 2], [6, 3], [6, 4], [7, 8], [7, 9], [7, 10], [8, 5], [8, 6], [8, 7], [9, 8], [9, 9], [9, 10], [10, 11], [10, 12], [10, 13], [11, 5], [11, 6], [11, 7], [12, 8], [12, 9], [12, 10], [13, 11], [13, 12], [13, 13]]\n",
      "Number of edges =  40\n"
     ]
    }
   ],
   "source": [
    "# Compute a list of the edges in G0:\n",
    "edge_vec_G0 = f_edges(G0)\n",
    "\n",
    "print(edge_vec_G0)\n",
    "print(\"Number of edges = \", np.shape(edge_vec_G0)[0])"
   ]
  },
  {
   "cell_type": "code",
   "execution_count": 25,
   "metadata": {},
   "outputs": [],
   "source": [
    "# (Finding the set of all simple paths is an NP-hard problem.)\n",
    "\n",
    "# Build G0 as a networkx object:\n",
    "import networkx as nx\n",
    "G0_nx = nx.DiGraph() # Build a directed graph\n",
    "G0_nx.add_nodes_from(np.arange(num_edges)) # Add 14 nodes\n",
    "G0_nx.add_edges_from(edge_vec_G0) # Add the edges in G0\n",
    "\n",
    "# Check the nodes and edges:\n",
    "# print(G0_nx.number_of_nodes())\n",
    "# print(G0_nx.number_of_edges())\n",
    "# G0_nx.edges()"
   ]
  },
  {
   "cell_type": "code",
   "execution_count": 69,
   "metadata": {},
   "outputs": [],
   "source": [
    "# Find the simple paths in G0 from source to target:\n",
    "def f_simple_paths_ij(G0,source,target):\n",
    "    i = 0\n",
    "    simple_paths = []\n",
    "    for path in nx.all_simple_paths(G0, source=source, target=target):\n",
    "        simple_paths.append(path)\n",
    "        i += 1\n",
    "    return simple_paths"
   ]
  },
  {
   "cell_type": "code",
   "execution_count": 137,
   "metadata": {},
   "outputs": [
    {
     "name": "stdout",
     "output_type": "stream",
     "text": [
      "There are 18050 simple paths.\n",
      "[array([0, 1]) array([0, 2, 5, 1]) array([0, 2, 6, 3, 1]) ...\n",
      " array([13, 11,  7,  9, 10, 12]) array([13, 11,  7, 10, 12])\n",
      " array([13, 12])]\n"
     ]
    }
   ],
   "source": [
    "# Find all simple paths in G0\n",
    "simple_paths_list = []\n",
    "# Loop through all sources and targets.\n",
    "for source in np.arange(num_edges):\n",
    "    for target in np.arange(num_edges):\n",
    "        if source != target:\n",
    "            simple_paths_list.append(f_simple_paths_ij(G0_nx,source,target))\n",
    "\n",
    "simple_paths = np.array([i for sublist in simple_paths_list for i in sublist]) # Flatten the list\n",
    "\n",
    "# We want the unique simple paths.\n",
    "# (In fact, we don't need this line. They're unique by construction.)\n",
    "# simple_paths = np.unique(simple_paths)\n",
    "\n",
    "L = np.shape(simple_paths)[0] # The number of simple paths in G0\n",
    "print(\"There are\", L, \"simple paths.\")\n",
    "\n",
    "# Convert to array of arrays:\n",
    "for i in np.arange(L):\n",
    "    simple_paths[i] = np.array(simple_paths[i])\n",
    "print(simple_paths)"
   ]
  },
  {
   "cell_type": "code",
   "execution_count": 198,
   "metadata": {},
   "outputs": [],
   "source": [
    "# Given an edge and the list of all simple_paths,\n",
    "# this function finds all simple paths which do\n",
    "# not contain that edge:\n",
    "def f_Gamma_e(edge,simple_paths):\n",
    "    L = np.shape(simple_paths)[0]\n",
    "    Paths = []\n",
    "    for i in np.arange(L):\n",
    "        if edge not in simple_paths[i]:\n",
    "            Paths.append(simple_paths[i])\n",
    "    return Paths"
   ]
  },
  {
   "cell_type": "code",
   "execution_count": 271,
   "metadata": {},
   "outputs": [
    {
     "name": "stdout",
     "output_type": "stream",
     "text": [
      "[[0, 0], [0, 1], [0, 2], [1, 0], [1, 2], [2, 0], [2, 1], [2, 3], [3, 2], [3, 3], [3, 4], [4, 2], [4, 3], [4, 4]]\n"
     ]
    },
    {
     "data": {
      "text/plain": [
       "431.3369073802549"
      ]
     },
     "execution_count": 271,
     "metadata": {},
     "output_type": "execute_result"
    }
   ],
   "source": [
    "# This function computes the effective length gamma of a weighted path Gamma.\n",
    "# Gamma is a weighted path that contains each edge at most one time.\n",
    "def f_gamma(Gamma,pi,K):\n",
    "    gamma = 0\n",
    "    for e in Gamma:\n",
    "        s = int(e[0])\n",
    "        t = int(e[1])\n",
    "        gamma += 1/(pi[s]*K[s,t])\n",
    "    return gamma\n",
    "\n",
    "edge_vec_G\n",
    "print(edge_vec_G)\n",
    "f_gamma(edge_vec_G,pi,K)"
   ]
  },
  {
   "cell_type": "code",
   "execution_count": 253,
   "metadata": {},
   "outputs": [],
   "source": [
    "# Convert indices of a path to the actual path in G.\n",
    "def f_dict(Gamma_xy_idx):\n",
    "    L_gxy = np.shape(Gamma_xy_idx)[0]\n",
    "    Gamma_xy = np.zeros((L_gxy,2))\n",
    "    for i in np.arange(L_gxy):\n",
    "        Gamma_xy[i,:] = edge_vec_G[Gamma_xy_idx[i]]\n",
    "    return Gamma_xy"
   ]
  },
  {
   "cell_type": "code",
   "execution_count": 295,
   "metadata": {},
   "outputs": [
    {
     "data": {
      "text/plain": [
       "array([ 67182.98188467,  51734.29390889,  30476.08450604,  49901.12525629,\n",
       "        62904.73883435,  22199.76590234,  39093.06690182,  22718.67252753,\n",
       "        58076.01479932,  81108.52210897,  30763.53661763,  86267.47957969,\n",
       "        96507.57994962, 105178.47727519])"
      ]
     },
     "execution_count": 295,
     "metadata": {},
     "output_type": "execute_result"
    }
   ],
   "source": [
    "# Calculate the sum over all valid paths:\n",
    "\n",
    "k = np.zeros(num_edges)\n",
    "\n",
    "for edge in np.arange(num_edges):\n",
    "    Paths = f_Gamma_e(edge,simple_paths)\n",
    "\n",
    "    k_e = 0\n",
    "    for Gamma_xy_idx in Paths:\n",
    "        Gamma_xy = f_dict(Gamma_xy_idx)\n",
    "        x = int(Gamma_xy[0][0])\n",
    "        y = int(np.flip(Gamma_xy)[0][0])\n",
    "        k_e += f_gamma(Gamma_xy,pi,K)*pi[x]*pi[y]\n",
    "\n",
    "    k[edge] = k_e\n",
    "\n",
    "k"
   ]
  },
  {
   "cell_type": "code",
   "execution_count": 307,
   "metadata": {},
   "outputs": [
    {
     "name": "stdout",
     "output_type": "stream",
     "text": [
      "The bottleneck is [4, 4]\n",
      "kappa = 105178.47727518753\n",
      "λ_slem ≤ 0.999990492351421\n"
     ]
    },
    {
     "data": {
      "image/png": "[encoded data removed]",
      "text/plain": [
       "<Figure size 432x288 with 1 Axes>"
      ]
     },
     "metadata": {
      "needs_background": "light"
     },
     "output_type": "display_data"
    }
   ],
   "source": [
    "plt.plot(k)\n",
    "plt.xlabel('Index of Edges', fontsize=14)\n",
    "plt.ylabel('Bottleneck Sum', fontsize=14)\n",
    "plt.grid()\n",
    "\n",
    "e_star = np.argmax(k)\n",
    "kappa = np.max(k)\n",
    "bottleneck = edge_vec_G[e_star]\n",
    "\n",
    "print(\"The bottleneck is\", bottleneck)\n",
    "print(\"kappa =\", kappa)\n",
    "print(\"λ_slem ≤\", 1 - 1/kappa)"
   ]
  },
  {
   "cell_type": "markdown",
   "metadata": {},
   "source": [
    "### (3.) Calculate the conductance h of the graph G. Verify Cheeger’s inequality:\n",
    "### 1 − 2h ≤ λ_slem ≤ 1 − h^2/2.\n",
    "### Computing the conductance is an NP-complete problem."
   ]
  },
  {
   "cell_type": "code",
   "execution_count": 322,
   "metadata": {},
   "outputs": [
    {
     "name": "stdout",
     "output_type": "stream",
     "text": [
      "[array([0]) array([1]) array([2]) array([3]) array([4]) array([0, 1])\n",
      " array([0, 2]) array([0, 3]) array([0, 4]) array([1, 2]) array([1, 3])\n",
      " array([1, 4]) array([2, 3]) array([2, 4]) array([3, 4]) array([0, 1, 2])\n",
      " array([0, 1, 3]) array([0, 1, 4]) array([0, 2, 3]) array([0, 2, 4])\n",
      " array([0, 3, 4]) array([1, 2, 3]) array([1, 2, 4]) array([1, 3, 4])\n",
      " array([2, 3, 4]) array([0, 1, 2, 3]) array([0, 1, 2, 4])\n",
      " array([0, 1, 3, 4]) array([0, 2, 3, 4]) array([1, 2, 3, 4])\n",
      " array([0, 1, 2, 3, 4])]\n"
     ]
    }
   ],
   "source": [
    "# Computing S and Sc:\n",
    "\n",
    "# There are 5 states.\n",
    "states = np.array([0, 1, 2, 3, 4])\n",
    "n = 2**np.size(states) # The number of subsets\n",
    "m = int(n/2) # Half the number of subsets\n",
    "\n",
    "from itertools import chain, combinations\n",
    "# Computes the powerset of x:\n",
    "def powerset(x):\n",
    "    # The powerset as a list:\n",
    "    ps = list(chain.from_iterable(combinations(x,n) for n in np.arange(np.size(x)+1)))\n",
    "    return np.array([np.array(xi) for xi in ps]) # Retun as a numpy array of numpy arrays\n",
    "\n",
    "# We divide the state space Ω into two subspaces such that Ω = S ∪ Sc \n",
    "S = powerset(states) # Return the powerset\n",
    "S = S[1:n] # We can remove the empty set from S.\n",
    "# Sc = np.flip(S) # Flipped to match the missing parts of S.\n",
    "n2 = np.shape(S)[0]\n",
    "print(S)\n",
    "# print(Sc)"
   ]
  },
  {
   "cell_type": "code",
   "execution_count": 323,
   "metadata": {},
   "outputs": [
    {
     "name": "stdout",
     "output_type": "stream",
     "text": [
      "[ 0  1  2  3  4  5  6  7  8  9 11 13 14 17 19]\n"
     ]
    }
   ],
   "source": [
    "# Computing pi_S:\n",
    "\n",
    "# Computing the vectors of pi values for each S:\n",
    "pi_S_vec = []\n",
    "for i in np.arange(n2):\n",
    "    idx = S[i]\n",
    "    pi_S_vec.append(pi[idx])\n",
    "\n",
    "# Computing the sum of pi_S_vec for each S:\n",
    "pi_S = np.zeros(n)\n",
    "for i in np.arange(n2):\n",
    "    pi_S[i+1] = np.sum(pi_S_vec[i])\n",
    "\n",
    "pi_S = pi_S[1:n-1] # Remove the empty and complete sets\n",
    "\n",
    "# Compute the indices where pi(S) <= 1/2\n",
    "indices = np.where(pi_S <= 1/2)[0]\n",
    "# Compute the values of pi(S) at these indices:\n",
    "# pi_S_p = pi_S[indices]\n",
    "print(indices)\n",
    "# print(pi_S_p)"
   ]
  },
  {
   "cell_type": "code",
   "execution_count": 324,
   "metadata": {},
   "outputs": [],
   "source": [
    "# This function computes Q(s,sc):\n",
    "def f_Q(s,sc,K):\n",
    "    Q = 0\n",
    "    for x in s:\n",
    "        for y in sc:\n",
    "            Q += pi[x]*K[x,y]\n",
    "    return Q"
   ]
  },
  {
   "cell_type": "code",
   "execution_count": 325,
   "metadata": {},
   "outputs": [
    {
     "name": "stdout",
     "output_type": "stream",
     "text": [
      "Conductance = 0.13333333333333336\n"
     ]
    },
    {
     "data": {
      "image/png": "[encoded data removed]",
      "text/plain": [
       "<Figure size 432x288 with 1 Axes>"
      ]
     },
     "metadata": {
      "needs_background": "light"
     },
     "output_type": "display_data"
    }
   ],
   "source": [
    "S2 = S[0:n-2] # Remove the complete set from S.\n",
    "Sc2 = np.flip(S2) # Flipped to match the missing parts of S.\n",
    "\n",
    "# Compute the conductance:\n",
    "h_vec = np.zeros(np.shape(indices))\n",
    "j = 0\n",
    "for i in indices:\n",
    "    h_vec[j] = f_Q(S2[i],Sc2[i],K)/pi_S[i]\n",
    "    j += 1\n",
    "\n",
    "# Plot of the conductance:\n",
    "plt.plot(h_vec)\n",
    "plt.xlabel('Index of Permissible Subsets S', fontsize=14)\n",
    "plt.ylabel('Conductance', fontsize=14)\n",
    "plt.grid()\n",
    "\n",
    "h = min(h_vec)\n",
    "print(\"Conductance =\", h)"
   ]
  },
  {
   "cell_type": "code",
   "execution_count": 341,
   "metadata": {},
   "outputs": [
    {
     "name": "stdout",
     "output_type": "stream",
     "text": [
      "Lower bound =  0.7333333333333333\n",
      "Upper bound =  0.991111111111111\n",
      "λ_slem =  0.7730931498158939\n",
      "Cheeger's inequality is satisfied.\n"
     ]
    }
   ],
   "source": [
    "lower_bound = 1-2*h\n",
    "upper_bound = 1 - (h**2)/2\n",
    "\n",
    "print(\"Lower bound = \", lower_bound)\n",
    "print(\"Upper bound = \", upper_bound)\n",
    "print(\"λ_slem = \", lambda_slem)\n",
    "print(\"Cheeger's inequality is satisfied.\")"
   ]
  },
  {
   "cell_type": "markdown",
   "metadata": {},
   "source": [
    "### (4.) Now since we know π, we can design the “dream” matrix K* that converges in one step. Then λ_slem = 0 for K*.\n",
    "### Rerun your code above to calculate the conductance h for K*. Verify Cheeger’s inequalities."
   ]
  },
  {
   "cell_type": "code",
   "execution_count": 327,
   "metadata": {},
   "outputs": [
    {
     "data": {
      "text/plain": [
       "array([[0.09195402, 0.20361248, 0.21674877, 0.32512315, 0.16256158],\n",
       "       [0.09195402, 0.20361248, 0.21674877, 0.32512315, 0.16256158],\n",
       "       [0.09195402, 0.20361248, 0.21674877, 0.32512315, 0.16256158],\n",
       "       [0.09195402, 0.20361248, 0.21674877, 0.32512315, 0.16256158],\n",
       "       [0.09195402, 0.20361248, 0.21674877, 0.32512315, 0.16256158]])"
      ]
     },
     "execution_count": 327,
     "metadata": {},
     "output_type": "execute_result"
    }
   ],
   "source": [
    "# Construct K* (K* = [pi pi ... pi].T):\n",
    "K_star = np.zeros((5,5))\n",
    "for i in np.arange(np.shape(K)[1]):\n",
    "    K_star[i,:] = pi\n",
    "K_star"
   ]
  },
  {
   "cell_type": "code",
   "execution_count": 328,
   "metadata": {},
   "outputs": [
    {
     "name": "stdout",
     "output_type": "stream",
     "text": [
      "Conductance = 0.5123152709359601\n"
     ]
    },
    {
     "data": {
      "image/png": "[encoded data removed]",
      "text/plain": [
       "<Figure size 432x288 with 1 Axes>"
      ]
     },
     "metadata": {
      "needs_background": "light"
     },
     "output_type": "display_data"
    }
   ],
   "source": [
    "S2 = S[0:n-2] # Remove the complete set from S.\n",
    "Sc2 = np.flip(S2) # Flipped to match the missing parts of S.\n",
    "\n",
    "# Compute the conductance:\n",
    "h_vec = np.zeros(np.shape(indices))\n",
    "j = 0\n",
    "for i in indices:\n",
    "    h_vec[j] = f_Q(S2[i],Sc2[i],K_star)/pi_S[i]\n",
    "    j += 1\n",
    "\n",
    "# Plot of the conductance:\n",
    "plt.plot(h_vec)\n",
    "plt.xlabel('Index of Permissible Subsets S', fontsize=14)\n",
    "plt.ylabel('Conductance', fontsize=14)\n",
    "plt.grid()\n",
    "\n",
    "h = min(h_vec)\n",
    "print(\"Conductance =\", h)"
   ]
  },
  {
   "cell_type": "code",
   "execution_count": 331,
   "metadata": {},
   "outputs": [
    {
     "name": "stdout",
     "output_type": "stream",
     "text": [
      "Lower bound =  -0.024630541871920153\n",
      "Upper bound =  0.868766531582907\n",
      "λ_slem =  0\n",
      "Cheeger's inequalities are satisfied.\n"
     ]
    }
   ],
   "source": [
    "lower_bound = 1-2*h\n",
    "upper_bound = 1 - (h**2)/2\n",
    "\n",
    "print(\"Lower bound = \", lower_bound)\n",
    "print(\"Upper bound = \", upper_bound)\n",
    "print(\"λ_slem = \", 0)\n",
    "print(\"Cheeger's inequalities are satisfied.\")"
   ]
  }
 ],
 "metadata": {
  "kernelspec": {
   "display_name": "Python 3",
   "language": "python",
   "name": "python3"
  },
  "language_info": {
   "codemirror_mode": {
    "name": "ipython",
    "version": 3
   },
   "file_extension": ".py",
   "mimetype": "text/x-python",
   "name": "python",
   "nbconvert_exporter": "python",
   "pygments_lexer": "ipython3",
   "version": "3.7.4"
  }
 },
 "nbformat": 4,
 "nbformat_minor": 2
}

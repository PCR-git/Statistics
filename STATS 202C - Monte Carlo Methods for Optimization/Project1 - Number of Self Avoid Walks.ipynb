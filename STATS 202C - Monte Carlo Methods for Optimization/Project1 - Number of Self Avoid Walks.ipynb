{
 "cells": [
  {
   "cell_type": "markdown",
   "metadata": {},
   "source": [
    "# Stats 202C - Project 1\n",
    "\n",
    "## Importance Sampling and Sequential Monte Carlo\n",
    "\n",
    "## Peter Racioppo (103953689)"
   ]
  },
  {
   "cell_type": "markdown",
   "metadata": {},
   "source": [
    "## Problem 1"
   ]
  },
  {
   "cell_type": "markdown",
   "metadata": {},
   "source": [
    "### 1) Importance sampling and the effective number of samples: In a 2-dimensional plane, suppose the target distribution π(x, y) is a symmetric Gaussian with mean μ = (2, 2) and standard deviation σ = 1 . Suppose we use an approximate distribution g(x, y) as the trial density which is a Gaussian with mean μ0 = (0, 0) with standard deviation σ0. So, \n",
    "### π(x,y) = (1/2π)*exp(-[(x-2)^2 + (y-2)^2]/2), g(x,y) = (1/2π*σ0^2)*exp(-[x^2 + y^2]/2σ0^2)\n",
    "### We wish to estimate the quantity θ = integral (sqrt(y^2 + x^2)·π(x, y))·dxdy .\n",
    "### In this question, we will compare the effectiveness of three alternative reference probabilities used in importance sampling."
   ]
  },
  {
   "cell_type": "markdown",
   "metadata": {},
   "source": [
    "### Alternative 1. Compute θ1 : estimate θ by drawing n1 samples directly from π(x, y) . Since the two dimensions are independent, we can sample x and y from the 1D marginal Gaussians."
   ]
  },
  {
   "cell_type": "markdown",
   "metadata": {},
   "source": [
    "### Alternative 2. Compute θ2 : estimate θ by drawing n2 samples from g(x, y) with σ0 = 1 ."
   ]
  },
  {
   "cell_type": "markdown",
   "metadata": {},
   "source": [
    "### Alternative 3 Compute θ3 : estimate θ by drawing n3 samples from g(x, y) with σ0 = 4 ."
   ]
  },
  {
   "cell_type": "code",
   "execution_count": 238,
   "metadata": {},
   "outputs": [],
   "source": [
    "# Imports\n",
    "import numpy as np\n",
    "import matplotlib.pyplot as plt\n",
    "from pylab import rcParams\n",
    "\n",
    "import random\n",
    "import math"
   ]
  },
  {
   "cell_type": "code",
   "execution_count": 239,
   "metadata": {},
   "outputs": [],
   "source": [
    "# This function draws samples x and y from a\n",
    "# normal distribution pi(x,y) and then estimates\n",
    "# the quantity theta = sqrt(y^2 + x^2).\n",
    "def f_Sample_Normal(mean,sigma,n):\n",
    "    # Sample from normal distributions:\n",
    "    x = np.random.normal(mean,sigma,n)\n",
    "    y = np.random.normal(mean,sigma,n)\n",
    "\n",
    "    # Compute the sample mean of theta:\n",
    "    E_theta = np.mean(np.sqrt(x**2 + y**2))\n",
    "    return E_theta"
   ]
  },
  {
   "cell_type": "code",
   "execution_count": 240,
   "metadata": {},
   "outputs": [],
   "source": [
    "# This function draws samples x and y from a\n",
    "# normal distribution g(x,y), weighted by\n",
    "# w(x,y) = pi(x,y)/g(x,y), to compute the quantity\n",
    "# theta = sqrt(y^2 + x^2), where x and y are\n",
    "# drawn from another normal distribution pi(x,y).\n",
    "def f_Sample_Normal_w(mu1,mu0,sigma1,sigma0,n):\n",
    "    # Sample from normal distributions:\n",
    "    x = np.random.normal(mu0,sigma0,n)\n",
    "    y = np.random.normal(mu0,sigma0,n)\n",
    "    \n",
    "    # Computing importance sample weighting:\n",
    "    t0 = ((x-mu0)**2 + (y-mu0)**2)/(2*sigma0**2)\n",
    "    t1 = -((x-mu1)**2 + (y-mu1)**2)/(2*sigma1**2)\n",
    "    w = (sigma0/sigma1)**2 * np.exp(t0+t1)\n",
    "    \n",
    "    # Compute the sample mean of theta:\n",
    "    E_theta = np.mean(np.sqrt(x**2 + y**2)*w)\n",
    "    return np.var(w), E_theta"
   ]
  },
  {
   "cell_type": "markdown",
   "metadata": {},
   "source": [
    "### a) Plot θ1, θ2, θ3 over n (increasing n so that they converge) in one figure to compare the convergence rates. Before running the experiment, try to guess whether Alternative 3 is more effective than Alternative 2. Hint: You can use a log plot at a few points n = 10, 100, 1000, 10000, . . ."
   ]
  },
  {
   "cell_type": "code",
   "execution_count": 241,
   "metadata": {},
   "outputs": [],
   "source": [
    "# This function computes estimates of theta for a range\n",
    "# of values of n.\n",
    "def f_Est(mean,sigma,mu1,mu0,sigma1,sigma0A,sigma0B,n):\n",
    "\n",
    "    # Intialize vectors to hold estimates and variances:\n",
    "    alt1 = np.zeros(order)\n",
    "    alt2 = np.zeros(order)\n",
    "    alt3 = np.zeros(order)\n",
    "    w2_var = np.zeros(order)\n",
    "    w3_var = np.zeros(order)\n",
    "\n",
    "    # Sample using the 3 alternative methods:\n",
    "    for i in np.arange(order):\n",
    "        alt1[i] = f_Sample_Normal(mean=mean,sigma=sigma,n=n[i])\n",
    "        w2_var[i], alt2[i] = f_Sample_Normal_w(mu1=mu1,mu0=mu0,sigma1=sigma1,sigma0=sigma0A,n=n[i])\n",
    "        w3_var[i], alt3[i] = f_Sample_Normal_w(mu1=mu1,mu0=mu0,sigma1=sigma1,sigma0=sigma0B,n=n[i])\n",
    "    \n",
    "    return alt1, alt2, alt3, w2_var, w3_var"
   ]
  },
  {
   "cell_type": "code",
   "execution_count": 242,
   "metadata": {},
   "outputs": [],
   "source": [
    "# Range of n values, up to 10^order:\n",
    "order = 21\n",
    "ep = np.arange(order)\n",
    "n = 10*2**ep\n",
    "alt1, alt2, alt3, w2_var, w3_var = f_Est(mean=2,sigma=1,mu1=2,mu0=0,sigma1=1,sigma0A=1,sigma0B=4,n=n)"
   ]
  },
  {
   "cell_type": "code",
   "execution_count": 243,
   "metadata": {},
   "outputs": [
    {
     "data": {
      "image/png": "[encoded data removed]",
      "text/plain": [
       "<Figure size 432x288 with 1 Axes>"
      ]
     },
     "metadata": {
      "needs_background": "light"
     },
     "output_type": "display_data"
    }
   ],
   "source": [
    "plt.plot(ep,alt1,label=\"Alternative 1\")\n",
    "plt.plot(ep,alt2,label=\"Alternative 2\")\n",
    "plt.plot(alt3,label=\"Alternative 3\")\n",
    "plt.suptitle('Estimates of Theta', fontsize=14)\n",
    "plt.xlabel('10*2^(.)', fontsize=14)\n",
    "plt.ylabel('Theta', fontsize=14)\n",
    "plt.legend()\n",
    "plt.ylim(0, 5)\n",
    "plt.grid()\n",
    "plt.show()"
   ]
  },
  {
   "cell_type": "markdown",
   "metadata": {},
   "source": [
    "### Alternative 3 appears to be more effective than Alternative 3, which takes longer to settle. This is evidently because Alternative 3 has a larger variance, which allows it to more effectively sample the space over which π(x,y) is most dense."
   ]
  },
  {
   "cell_type": "markdown",
   "metadata": {},
   "source": [
    "### Let's visualize the errors:"
   ]
  },
  {
   "cell_type": "code",
   "execution_count": 244,
   "metadata": {},
   "outputs": [
    {
     "data": {
      "image/png": "[encoded data removed]",
      "text/plain": [
       "<Figure size 432x288 with 1 Axes>"
      ]
     },
     "metadata": {
      "needs_background": "light"
     },
     "output_type": "display_data"
    }
   ],
   "source": [
    "fin = alt1[sz-1]\n",
    "err1 = np.absolute(fin-alt1)\n",
    "err2 = np.absolute(fin-alt2)\n",
    "err3 = np.absolute(fin-alt3)\n",
    "\n",
    "plt.plot(ep,err1,label=\"Error 1\")\n",
    "plt.plot(ep,err2,label=\"Error 2\")\n",
    "plt.plot(ep,err3,label=\"Error 3\")\n",
    "plt.suptitle('Errors', fontsize=14)\n",
    "plt.xlabel('10*2^(.)', fontsize=14)\n",
    "plt.ylabel('Error', fontsize=14)\n",
    "plt.legend()\n",
    "plt.grid()\n",
    "plt.show()"
   ]
  },
  {
   "cell_type": "markdown",
   "metadata": {},
   "source": [
    "### b) Estimate the “effective sample size” for each alternative.\n",
    "\n",
    "### In Lecture 2 Supplement we defined the effective sample size as:\n",
    "### ess∗(n) = n*V_pi(theta_hat)/V_g(theta_hat)\n",
    "\n",
    "### In Lecture 2 Supplement we suggested the approximation ess∗(n) ~ n / (1+V_g(w_n)) ~ n / (1+S_g^2(w_n)) = ess(n), where S_g^2(w_n) is the sample variance of the importance weights w. In this question we assess how good this approximation to ess∗(n) is.\n",
    "\n",
    "### Since the samples in Alternative 1 are each “effective” samples of size 1 as they are directly drawn from the target distribution, we use ess∗(n1) = n1 as the truth and compare the effective sample sizes for Alternative 2 and Alternative 3, that is, the true ess∗(n2) and ess∗(n3) are the numbers when the estimated errors reach the same level as in Alternative 1.\n",
    "### Plot ess∗(n2) over ess(n2), and ess(n3) over ess∗(n3) . Discuss your results."
   ]
  },
  {
   "cell_type": "code",
   "execution_count": 245,
   "metadata": {},
   "outputs": [],
   "source": [
    "# This function computes ess,\n",
    "# the estimated sample size.\n",
    "def f_ess(n,w_var):\n",
    "    return (n / (1 + w_var))"
   ]
  },
  {
   "cell_type": "code",
   "execution_count": 246,
   "metadata": {},
   "outputs": [],
   "source": [
    "# This function computes the\n",
    "# estimated sample size ess\n",
    "# over a range of n values.\n",
    "def f_ess_n(w2_var,w3_var,order=5):\n",
    "\n",
    "    # Range of n values, up to 10^order:\n",
    "    ep = np.arange(order)\n",
    "    n = 10**ep\n",
    "\n",
    "    # Initialize vectors for\n",
    "    # ess2_star and ess3_star:\n",
    "    ess2 = np.zeros(order)\n",
    "    ess3 = np.zeros(order)\n",
    "\n",
    "    # Compute ess2 and ess3\n",
    "    # for each value of n:\n",
    "    for i in np.arange(order):\n",
    "        ess2[i] = f_ess(n[i],w2_var[i])\n",
    "        ess3[i] = f_ess(n[i],w3_var[i])\n",
    "        \n",
    "    return ess2, ess3"
   ]
  },
  {
   "cell_type": "code",
   "execution_count": 247,
   "metadata": {},
   "outputs": [],
   "source": [
    "# This function estimates ess_star by computing the estimates\n",
    "# of theta \"it\" times and computing the sample variance.\n",
    "def f_ess_star(mu1,mu0,sigma1,sigma0A,sigma0B,order=5,it=10):\n",
    "    \n",
    "    # Range of n values, up to 10^order:\n",
    "    ep = np.arange(order)\n",
    "    n = 10**ep\n",
    "    # Initialize vectors for\n",
    "    # ess2_star and ess3_star:\n",
    "    ess2_s = np.zeros(order)\n",
    "    ess3_s = np.zeros(order)\n",
    "    # Loop through the list of n values:\n",
    "    for i in np.arange(order):\n",
    "        # Initialize vectors to hold the\n",
    "        # estimates of theta across iterations:\n",
    "        alt1 = np.zeros(it)\n",
    "        alt2 = np.zeros(it)\n",
    "        alt3 = np.zeros(it)\n",
    "        # Loop through the iterations:\n",
    "        for j in np.arange(it):\n",
    "            # Compute the estimates of theta at each iteration:\n",
    "            alt1[j] = f_Sample_Normal(mean=mu1,sigma=sigma1,n=n[i])\n",
    "            _, alt2[j] = f_Sample_Normal_w(mu1=mu1,mu0=mu0,sigma1=sigma1,sigma0=sigma0A,n=n[i])\n",
    "            _, alt3[j] = f_Sample_Normal_w(mu1=mu1,mu0=mu0,sigma1=sigma1,sigma0=sigma0B,n=n[i])\n",
    "        # For a given n, compute the sample\n",
    "        # variance of all estimated values:\n",
    "        Var1 = np.var(alt1)\n",
    "        Var2 = np.var(alt2)\n",
    "        Var3 = np.var(alt3)\n",
    "        # Compute ess2_star and ess3_star:\n",
    "        ess2_s[i] = n[i]*Var1/Var2\n",
    "        ess3_s[i] = n[i]*Var1/Var3\n",
    "        \n",
    "    return ess2_s, ess3_s"
   ]
  },
  {
   "cell_type": "code",
   "execution_count": 250,
   "metadata": {},
   "outputs": [],
   "source": [
    "order = 7\n",
    "ep = np.arange(order)\n",
    "n = 10**ep\n",
    "_, _, _, w2_var, w3_var = f_Est(mean=2,sigma=1,mu1=2,mu0=0,sigma1=1,sigma0A=1,sigma0B=4,n=n)"
   ]
  },
  {
   "cell_type": "code",
   "execution_count": 251,
   "metadata": {},
   "outputs": [],
   "source": [
    "ess2, ess3 = f_ess_n(w2_var,w3_var,order=order)\n",
    "ess2_s, ess3_s = f_ess_star(mu1=2,mu0=0,sigma1=1,sigma0A=1,sigma0B=4,order=order,it=1000)"
   ]
  },
  {
   "cell_type": "code",
   "execution_count": 132,
   "metadata": {},
   "outputs": [
    {
     "data": {
      "image/png": "[encoded data removed]",
      "text/plain": [
       "<Figure size 432x288 with 1 Axes>"
      ]
     },
     "metadata": {
      "needs_background": "light"
     },
     "output_type": "display_data"
    }
   ],
   "source": [
    "fig = plt.figure()\n",
    "ax = fig.add_subplot(1, 1, 1)\n",
    "plt.plot(n,n,label=\"ess1\",linewidth=2)\n",
    "plt.plot(n,ess2,label=\"ess2\")\n",
    "plt.plot(n,ess3,label=\"ess3\",linestyle='dashed')\n",
    "plt.plot(n,ess2_s,label=\"ess2*\")\n",
    "plt.plot(n,ess3_s,label=\"ess3*\",linestyle='dashed')\n",
    "plt.suptitle('ess(n)', fontsize=14)\n",
    "plt.xlabel('Number of Samples', fontsize=14)\n",
    "plt.ylabel('Effective Sample Size', fontsize=14)\n",
    "ax.set_xscale('log')\n",
    "ax.set_yscale('log')\n",
    "plt.legend()\n",
    "plt.grid()\n",
    "plt.show()"
   ]
  },
  {
   "cell_type": "markdown",
   "metadata": {},
   "source": [
    "### The third method evidently has a larger effective sample size than the second method (at least when there are many samples, which is when these numbers become most reliable), as I discussed in Part (b). The effective sample size for the second method is noisier,\n",
    "\n",
    "### In both cases, the effective sample size is lower than the sample size using the original distribution, we is as we'd expect. The effective sample sizes for all three cases appear to grow at a similar rate with the number of samples.\n",
    "\n",
    "### The approximation ess appears to be greater than ess* for all values of n, for both methods 2 and 3, but the difference appears to narrow with increasing large n."
   ]
  },
  {
   "cell_type": "code",
   "execution_count": 252,
   "metadata": {},
   "outputs": [
    {
     "data": {
      "image/png": "[encoded data removed]",
      "text/plain": [
       "<Figure size 432x288 with 1 Axes>"
      ]
     },
     "metadata": {
      "needs_background": "light"
     },
     "output_type": "display_data"
    }
   ],
   "source": [
    "fig = plt.figure()\n",
    "ax = fig.add_subplot(1, 1, 1)\n",
    "plt.plot(n,ess2_s/ess2,label=\"ess2*/ess2\",linewidth=2)\n",
    "plt.plot(n,ess3_s/ess3,label=\"ess3*/ess3\")\n",
    "plt.suptitle('ess(n)', fontsize=14)\n",
    "plt.xlabel('Number of Samples', fontsize=14)\n",
    "plt.ylabel('ess ratio', fontsize=14)\n",
    "ax.set_xscale('log')\n",
    "ax.set_yscale('log')\n",
    "plt.legend()\n",
    "plt.grid()\n",
    "plt.show()"
   ]
  },
  {
   "cell_type": "markdown",
   "metadata": {},
   "source": [
    "## Problem 2"
   ]
  },
  {
   "cell_type": "markdown",
   "metadata": {},
   "source": [
    "### Estimating the number of Self-Avoiding-Walks in an (n + 1)×(n + 1) grid: This problem refers to the problem of counting the number of Self-Avoiding-Walks as described in Example 1.3 of BZ. Suppose we always start from position (0,0), i.e. the lower-left corner. We design a trial (reference) probability p(r) for a Self-Avoiding-Walk (SAW) r = (r1, r2, . . . , rN ) of varying length. Then we sample a number M SAWs from p(r), and the estimation process is described in the left panel of Figure 2."
   ]
  },
  {
   "cell_type": "markdown",
   "metadata": {},
   "source": [
    "### At each step, the trial probability p(r) can choose to stop (terminate the path) or walk to the left/right/up/down as long as it does not intersect itself. Each option is associated with a probability (of your design) and these probabilities sum to 1 at each point."
   ]
  },
  {
   "cell_type": "code",
   "execution_count": 253,
   "metadata": {},
   "outputs": [],
   "source": [
    "# This function randomly generates a SAW:\n",
    "def f_SAW(x_i,y_i,x_min,x_max,y_min,y_max,it_max=1):\n",
    "    # Inputs:\n",
    "    # x_i, y_i: initial x and y positions\n",
    "    # x_min, x_max: min and max x positions\n",
    "    # y_min, y_max: min and max y positions\n",
    "    # it_max: max # of iterations (optional)\n",
    "    \n",
    "    # Start at starting position:\n",
    "    x = x_i\n",
    "    y = y_i\n",
    "    \n",
    "    # Add as first value in position vector:\n",
    "    x_vec = [x]\n",
    "    y_vec = [y]\n",
    "    \n",
    "    p = 1 # Initialize the SAW probability\n",
    "    \n",
    "    i = 0\n",
    "    while True:    \n",
    "        opt_l = 1\n",
    "        opt_r = 1\n",
    "        opt_u = 1\n",
    "        opt_d = 1\n",
    "        # If the SAW is on the boundary, disallow\n",
    "        # moves that would carry it outside the grid:\n",
    "        if x == x_min:\n",
    "            opt_l = 0\n",
    "        if x == x_max:\n",
    "            opt_r = 0\n",
    "        if y == y_min:\n",
    "            opt_d = 0\n",
    "        if y == y_max:\n",
    "            opt_u = 0\n",
    "\n",
    "        # If the SAW is one move from intersecting itself,\n",
    "        # disallow moves that would cause intersection:\n",
    "        for j in np.arange(np.size(x_vec)):\n",
    "            if y_vec[j] == y:\n",
    "                if x_vec[j] == x-1:\n",
    "                    opt_l = 0\n",
    "                if x_vec[j] == x+1:\n",
    "                    opt_r = 0\n",
    "            if x_vec[j] == x:\n",
    "                if y_vec[j] == y-1:\n",
    "                    opt_d = 0\n",
    "                if y_vec[j] == y+1:\n",
    "                    opt_u = 0\n",
    "\n",
    "        opts = [opt_l,opt_r,opt_d,opt_u] # Options (1 or 0):\n",
    "        nt = np.count_nonzero(opts) # Number of nonzero counts\n",
    "\n",
    "        # If no options, break:\n",
    "        if nt == 0:\n",
    "            break\n",
    "\n",
    "        p = p/nt # Update the SAW probability\n",
    "        \n",
    "        nt_v = np.nonzero(opts)[0] # Find possible moves\n",
    "        # Randomly make a move, weighting each of\n",
    "        # the possibilities equally:\n",
    "        direction = np.random.choice(nt_v)\n",
    "\n",
    "        # Determine the new x and y coords:\n",
    "        if direction == 0:\n",
    "            x -= 1\n",
    "        elif direction == 1:\n",
    "            x += 1\n",
    "        elif direction == 2:\n",
    "            y -= 1\n",
    "        else:\n",
    "            y += 1\n",
    "\n",
    "        # Append the latest value:\n",
    "        x_vec.append(x)\n",
    "        y_vec.append(y)\n",
    "\n",
    "#         # Break after it_max iterations:\n",
    "#         i += 1\n",
    "#         if i == it_max:\n",
    "#             break\n",
    "\n",
    "    # Convert position vectors to arrays:\n",
    "    x_vec = np.array(x_vec)\n",
    "    y_vec = np.array(y_vec)\n",
    "    \n",
    "    # Outputs:\n",
    "    # x_vec, y_vec: arrays of x and y positions\n",
    "    return(x_vec, y_vec, p)"
   ]
  },
  {
   "cell_type": "code",
   "execution_count": 309,
   "metadata": {},
   "outputs": [],
   "source": [
    "# This function randomly generates a SAW.\n",
    "# The user can choose from three possible methods:\n",
    "\n",
    "# Method 1 weights each permissible direction of\n",
    "# movement at each time step equally.\n",
    "\n",
    "# Method 2 encourages the SAW to move toward less\n",
    "# explored  areas by weighting directions away from\n",
    "# the SAW's \"center of mass.\"\n",
    "\n",
    "# Method 3 encourages the SAW to explore areas which\n",
    "# have already been explored by biasing toward directions\n",
    "# in the direction of the center of mass.\n",
    "\n",
    "def f_SAW2(x_i,y_i,x_min,x_max,y_min,y_max,it_max=1,method=1):\n",
    "    # Inputs:\n",
    "    # x_i, y_i: initial x and y positions\n",
    "    # x_min, x_max: min and max x positions\n",
    "    # y_min, y_max: min and max y positions\n",
    "    # it_max: max # of iterations (optional)\n",
    "    \n",
    "    # Start at starting position:\n",
    "    x = x_i\n",
    "    y = y_i\n",
    "    \n",
    "    # Add as first value in position vector:\n",
    "    x_vec = [x]\n",
    "    y_vec = [y]\n",
    "    \n",
    "    p = 1 # Initialize the SAW probability\n",
    "    \n",
    "    i = 0\n",
    "    while True:    \n",
    "        opt_l = 1\n",
    "        opt_r = 1\n",
    "        opt_u = 1\n",
    "        opt_d = 1\n",
    "        # If the SAW is on the boundary, disallow\n",
    "        # moves that would carry it outside the grid:\n",
    "        if x == x_min:\n",
    "            opt_l = 0\n",
    "        if x == x_max:\n",
    "            opt_r = 0\n",
    "        if y == y_min:\n",
    "            opt_d = 0\n",
    "        if y == y_max:\n",
    "            opt_u = 0\n",
    "\n",
    "        # If the SAW is one move from intersecting itself,\n",
    "        # disallow moves that would cause intersection:\n",
    "        for j in np.arange(np.size(x_vec)):\n",
    "            if y_vec[j] == y:\n",
    "                if x_vec[j] == x-1:\n",
    "                    opt_l = 0\n",
    "                if x_vec[j] == x+1:\n",
    "                    opt_r = 0\n",
    "            if x_vec[j] == x:\n",
    "                if y_vec[j] == y-1:\n",
    "                    opt_d = 0\n",
    "                if y_vec[j] == y+1:\n",
    "                    opt_u = 0\n",
    "\n",
    "        opts = [opt_l,opt_r,opt_d,opt_u] # Options (1 or 0):\n",
    "        nt = np.count_nonzero(opts) # Number of nonzero counts\n",
    "\n",
    "        # If no options, break:\n",
    "        if nt == 0:\n",
    "            break\n",
    "        \n",
    "        nt_v = np.nonzero(opts)[0] # Find possible moves\n",
    "        \n",
    "        # If we are using Method 1, or we have taken\n",
    "        # no more than 10 steps, equally weigh the\n",
    "        # possible directions to move.\n",
    "        if method == 1 or np.size(x_vec) <= 10:\n",
    "            # Randomly make a move, weighting each of\n",
    "            # the possibilities equally:\n",
    "            direction = np.random.choice(nt_v)\n",
    "            p = p/nt # Update the SAW probability\n",
    "        # Else, we are using Method 2 or 3 and have\n",
    "        # taken more than 10 steps.\n",
    "        else:\n",
    "            # Initialize an array 'dist' to hold the\n",
    "            # distances for each permissible direction:\n",
    "            dist = np.zeros(np.size(nt_v))\n",
    "            \n",
    "            # Loop through the permissible directions:\n",
    "            for d_i in np.arange(np.size(nt_v)):\n",
    "                # Set placeholders xt and yt to hold\n",
    "                # the current x and y coordinates:\n",
    "                xt = x\n",
    "                yt = y\n",
    "                \n",
    "                # Set d, the current direction:\n",
    "                d = nt_v[d_i]\n",
    "                \n",
    "                # Determine the new x and y coords\n",
    "                # if we move in direction d and\n",
    "                # update xt and yt:\n",
    "                if d == 0:\n",
    "                    xt -= 1\n",
    "                elif d == 1:\n",
    "                    xt += 1\n",
    "                elif d == 2:\n",
    "                    yt -= 1\n",
    "                else:\n",
    "                    yt += 1\n",
    "                    \n",
    "                # Calculate the distance 'dist' between the current position\n",
    "                # (having moved in direction d) and the \"center of mass\" of\n",
    "                # the SAW, its average x and y coords. We will use the\n",
    "                # Manhattan norm as the measure of distance. To amplify the\n",
    "                # effect, we can exponentiate the norm.\n",
    "                dist[d_i] = (np.absolute(xt - np.mean(x_vec)) + np.absolute(yt - np.mean(y_vec)))**4\n",
    "            \n",
    "            # Set the probability of moving in each permissible direction\n",
    "            # as the distance we would be from the center of mass, after\n",
    "            # moving in that direction, normalized by the sum of such distances.\n",
    "            # This is Method 2. Method 2 encourages the SAW to explore areas\n",
    "            # in the grid which are less explored.\n",
    "            pr = dist/np.sum(dist)\n",
    "            \n",
    "            # If we are instead using Method 3, reverse the most probable and\n",
    "            # least probable directions. There are three possibilities: if we\n",
    "            # can only move in 1 direction, this has no effect. If we can\n",
    "            # move in 2 directions, these directions are flipped. If we can\n",
    "            # move in 3 directions, the intermediately valued direction is\n",
    "            # unchanged. Method 3 encourages the SAW to explore the parts of\n",
    "            # the grid which are already more explored.\n",
    "            if method == 3:\n",
    "                # Find indices of maximum and\n",
    "                # minimum probability:\n",
    "                ix1 = np.argmax(pr)\n",
    "                ix2 = np.argmin(pr)\n",
    "                # Reverse the corresponding indices:\n",
    "                pr[[ix1, ix2]] = pr[[ix2, ix1]]\n",
    "            \n",
    "            # Draw randomly from the permissble\n",
    "            # directions, using the probability pr.\n",
    "            dir_i = np.random.choice(np.arange(np.size(nt_v)),p=pr)\n",
    "            direction = nt_v[dir_i] # The chosen direction\n",
    "            p = p*pr[dir_i] # Update the SAW probability\n",
    "\n",
    "        # Determine the new x and y coords:\n",
    "        if direction == 0:\n",
    "            x -= 1\n",
    "        elif direction == 1:\n",
    "            x += 1\n",
    "        elif direction == 2:\n",
    "            y -= 1\n",
    "        else:\n",
    "            y += 1\n",
    "\n",
    "        # Append the latest value:\n",
    "        x_vec.append(x)\n",
    "        y_vec.append(y)\n",
    "\n",
    "    # Convert position vectors to arrays:\n",
    "    x_vec = np.array(x_vec)\n",
    "    y_vec = np.array(y_vec)\n",
    "    \n",
    "    # Outputs:\n",
    "    # x_vec, y_vec: arrays of x and y positions\n",
    "    return(x_vec, y_vec, p)"
   ]
  },
  {
   "cell_type": "code",
   "execution_count": 310,
   "metadata": {},
   "outputs": [],
   "source": [
    "# This function plots a given SAW\n",
    "def f_Plot_grid(x_vec,y_vec,x_min,x_max,y_min,y_max):\n",
    "    fig = plt.figure()\n",
    "    ax = fig.add_subplot(1, 1, 1)\n",
    "    plt.gca().set_aspect('equal', adjustable='box')\n",
    "    plt.plot(x_vec,y_vec)\n",
    "    plt.xlim(x_min-0.1, x_max+0.1)\n",
    "    plt.ylim(y_min-0.1, y_max+0.1)\n",
    "    major_ticks = np.arange(x_min, x_max+1, 1)\n",
    "    ax.set_xticks(major_ticks)\n",
    "    ax.set_yticks(major_ticks)\n",
    "    ax.grid(which='both')\n",
    "    plt.show()"
   ]
  },
  {
   "cell_type": "code",
   "execution_count": 299,
   "metadata": {},
   "outputs": [
    {
     "data": {
      "image/png": "[encoded data removed]",
      "text/plain": [
       "<Figure size 432x288 with 1 Axes>"
      ]
     },
     "metadata": {
      "needs_background": "light"
     },
     "output_type": "display_data"
    }
   ],
   "source": [
    "# Test: Computing and plotting a SAW\n",
    "\n",
    "# Initial position:\n",
    "x_i = 0\n",
    "y_i = 0\n",
    "# Size of grid:\n",
    "n = 10\n",
    "# Dimension of grid:\n",
    "x_min = 0\n",
    "x_max = n\n",
    "y_min = 0\n",
    "y_max = n\n",
    "\n",
    "x_vec, y_vec, p = f_SAW2(x_i,y_i,x_min,x_max,y_min,y_max,method=1)\n",
    "\n",
    "# print(x_vec)\n",
    "# print(y_vec)\n",
    "# print(1/p)\n",
    "\n",
    "f_Plot_grid(x_vec,y_vec,x_min,x_max,y_min,y_max)"
   ]
  },
  {
   "cell_type": "markdown",
   "metadata": {},
   "source": [
    "### a) What is the total number, K, of SAWs for n=10? Hint: Try M=10^7 to 10^8. To clarify: a square is considered a 2×2 grid with n = 1 . Plot K against M (in a log-log plot) and monitor whether the Sequential Importance Sampling (SIS) process has converged. Try to compare at least three different designs for p(r) and see which is more efficient. For example, you may start from a path that you find before multiple times, as long as you compute the p(r) correctly."
   ]
  },
  {
   "cell_type": "code",
   "execution_count": 311,
   "metadata": {},
   "outputs": [],
   "source": [
    "# This function computes the estimated number of SAWs that\n",
    "# exist as a funtion of M_vec, the number of samples.\n",
    "def f_SAW_kM(x_i,y_i,x_min,x_max,y_min,y_max,order,method=1):\n",
    "\n",
    "    k = 0\n",
    "    ep = np.linspace(0,order,order*5+1)\n",
    "    M_vec = 10**ep # Number of samples\n",
    "    # Initialize array of estimates:\n",
    "    K_vec = np.zeros(np.size(ep))\n",
    "    \n",
    "    # Loop through the possible number of samples:\n",
    "    for i in np.arange(np.size(ep)):\n",
    "        # Simulate a given number of samples:\n",
    "        for j in np.arange(M_vec[i]):\n",
    "            # x_vec, y_vec, p = f_SAW(x_i,y_i,x_min,x_max,y_min,y_max)\n",
    "            x_vec, y_vec, p = f_SAW2(x_i,y_i,x_min,x_max,y_min,y_max,method)\n",
    "            k += 1/p\n",
    "        # Estimated number of SAWs, for a given number of samples:\n",
    "        K_vec[i] = k/M_vec[i]\n",
    "    return(M_vec, K_vec)"
   ]
  },
  {
   "cell_type": "code",
   "execution_count": 327,
   "metadata": {},
   "outputs": [],
   "source": [
    "def f_Plot(M_vec,K_vec):\n",
    "    fig = plt.figure()\n",
    "    ax = fig.add_subplot(1, 1, 1)\n",
    "    plt.plot(M_vec,K_vec)\n",
    "    ax.set_xscale('log')\n",
    "    ax.set_yscale('log')\n",
    "    plt.xlabel('Sample Size')\n",
    "    plt.ylabel('Number of SAWs')\n",
    "    plt.suptitle('Estimated number of SAWs vs Sample Size', fontsize=14)\n",
    "    plt.grid()\n",
    "    plt.show()"
   ]
  },
  {
   "cell_type": "code",
   "execution_count": 328,
   "metadata": {},
   "outputs": [],
   "source": [
    "def f_Plot3(M_vec1,K_vec1,M_vec2,K_vec2,M_vec3,K_vec3):\n",
    "    fig = plt.figure()\n",
    "    ax = fig.add_subplot(1, 1, 1)\n",
    "    plt.plot(M_vec1,K_vec1,label=\"Method 1\")\n",
    "    plt.plot(M_vec2,K_vec2,label=\"Method 2\")\n",
    "    plt.plot(M_vec3,K_vec3,label=\"Method 3\")\n",
    "    ax.set_xscale('log')\n",
    "    ax.set_yscale('log')\n",
    "    plt.xlabel('Sample Size')\n",
    "    plt.ylabel('Number of SAWs')\n",
    "    plt.suptitle('Estimated number of SAWs vs Sample Size', fontsize=14)\n",
    "    plt.legend()\n",
    "    plt.grid()\n",
    "    plt.show()"
   ]
  },
  {
   "cell_type": "code",
   "execution_count": 300,
   "metadata": {},
   "outputs": [],
   "source": [
    "# Initial position:\n",
    "x_i = 0\n",
    "y_i = 0\n",
    "# Size of grid:\n",
    "n = 10\n",
    "# Dimension of grid:\n",
    "x_min = 0\n",
    "x_max = n\n",
    "y_min = 0\n",
    "y_max = n"
   ]
  },
  {
   "cell_type": "code",
   "execution_count": 301,
   "metadata": {},
   "outputs": [],
   "source": [
    "# Simulate using Method 1:\n",
    "M_vec1, K_vec1 = f_SAW_kM(x_i,y_i,x_min,x_max,y_min,y_max,order=4,method=1)"
   ]
  },
  {
   "cell_type": "code",
   "execution_count": 312,
   "metadata": {},
   "outputs": [],
   "source": [
    "# Simulate using Method 2:\n",
    "M_vec2, K_vec2 = f_SAW_kM(x_i,y_i,x_min,x_max,y_min,y_max,order=4,method=2)"
   ]
  },
  {
   "cell_type": "code",
   "execution_count": 313,
   "metadata": {},
   "outputs": [],
   "source": [
    "# Simulate using Method 3:\n",
    "M_vec3, K_vec3 = f_SAW_kM(x_i,y_i,x_min,x_max,y_min,y_max,order=4,method=3)"
   ]
  },
  {
   "cell_type": "code",
   "execution_count": 332,
   "metadata": {},
   "outputs": [
    {
     "data": {
      "image/png": "[encoded data removed]",
      "text/plain": [
       "<Figure size 432x288 with 1 Axes>"
      ]
     },
     "metadata": {
      "needs_background": "light"
     },
     "output_type": "display_data"
    },
    {
     "ename": "IndexError",
     "evalue": "index 21 is out of bounds for axis 0 with size 21",
     "output_type": "error",
     "traceback": [
      "\u001b[0;31m---------------------------------------------------------------------------\u001b[0m",
      "\u001b[0;31mIndexError\u001b[0m                                Traceback (most recent call last)",
      "\u001b[0;32m<ipython-input-332-259d2bc1bef0>\u001b[0m in \u001b[0;36m<module>\u001b[0;34m\u001b[0m\n\u001b[1;32m      1\u001b[0m \u001b[0mf_Plot3\u001b[0m\u001b[0;34m(\u001b[0m\u001b[0mM_vec1\u001b[0m\u001b[0;34m,\u001b[0m\u001b[0mK_vec1\u001b[0m\u001b[0;34m,\u001b[0m\u001b[0mM_vec2\u001b[0m\u001b[0;34m,\u001b[0m\u001b[0mK_vec2\u001b[0m\u001b[0;34m,\u001b[0m\u001b[0mM_vec3\u001b[0m\u001b[0;34m,\u001b[0m\u001b[0mK_vec3\u001b[0m\u001b[0;34m)\u001b[0m\u001b[0;34m\u001b[0m\u001b[0;34m\u001b[0m\u001b[0m\n\u001b[0;32m----> 2\u001b[0;31m \u001b[0mprint\u001b[0m\u001b[0;34m(\u001b[0m\u001b[0mK_vec1\u001b[0m\u001b[0;34m[\u001b[0m\u001b[0mnp\u001b[0m\u001b[0;34m.\u001b[0m\u001b[0msize\u001b[0m\u001b[0;34m(\u001b[0m\u001b[0mK_vec1\u001b[0m\u001b[0;34m-\u001b[0m\u001b[0;36m1\u001b[0m\u001b[0;34m)\u001b[0m\u001b[0;34m]\u001b[0m\u001b[0;34m)\u001b[0m\u001b[0;34m\u001b[0m\u001b[0;34m\u001b[0m\u001b[0m\n\u001b[0m",
      "\u001b[0;31mIndexError\u001b[0m: index 21 is out of bounds for axis 0 with size 21"
     ]
    }
   ],
   "source": [
    "f_Plot3(M_vec1,K_vec1,M_vec2,K_vec2,M_vec3,K_vec3)\n",
    "print(K_vec1[np.size(K_vec1-1)])"
   ]
  },
  {
   "cell_type": "markdown",
   "metadata": {},
   "source": [
    "### I compared three methods:\n",
    "\n",
    "### Method 1 weights each permissible direction of movement at each time step equally.\n",
    "\n",
    "### Method 2 encourages the SAW to move toward less explored  areas by weighting directions away from the SAW's \"center of mass.\"\n",
    "\n",
    "### Method 3 encourages the SAW to explore areas which have already been explored by biasing toward directions in the direction of the center of mass.\n",
    "\n",
    "### Method 2 appears to converge slightly faster and Method 3 slightly slower. Playing with weightings in these methods might improve performance."
   ]
  },
  {
   "cell_type": "markdown",
   "metadata": {},
   "source": [
    "### b) What is the total number of SAWs that start from (0,0) and end at (n,n)? Here you can still use the same sampling procedure above, but only record the SAWs which successfully reach (n, n) . As we noted, the true number is 1.5687×10^24 ."
   ]
  },
  {
   "cell_type": "code",
   "execution_count": 353,
   "metadata": {},
   "outputs": [],
   "source": [
    "# This function computes the number of SAWs\n",
    "# ending at position x_f, y_f, as a function\n",
    "# of the number of samples.\n",
    "def f_SAW_kM_nn(x_i,y_i,x_f,y_f,x_min,x_max,y_min,y_max,order):\n",
    "\n",
    "    k = 0\n",
    "    ep = np.linspace(0,order,order*5+1)\n",
    "    M_vec = 10**ep # Number of samples\n",
    "    K_vec = np.zeros(np.size(ep))\n",
    "    \n",
    "    # Loop through sample sizes:\n",
    "    for i in np.arange(np.size(ep)):\n",
    "        # Simulate for a given sample size:\n",
    "        for j in np.arange(M_vec[i]):\n",
    "            x_vec, y_vec, p = f_SAW(x_i,y_i,x_min,x_max,y_min,y_max)\n",
    "            # If the SAW ends on the desired coordinates, increment the counter:\n",
    "            if x_vec[np.size(x_vec)-1] == x_f and y_vec[np.size(y_vec)-1] == y_f:\n",
    "                k += 1/p\n",
    "        K_vec[i] = k/M_vec[i] # Total number of counted SAWs\n",
    "    return(M_vec, K_vec)"
   ]
  },
  {
   "cell_type": "code",
   "execution_count": 354,
   "metadata": {},
   "outputs": [],
   "source": [
    "# Compute the number of SAWs in a 10x10\n",
    "# grid ending on 10, 10:\n",
    "\n",
    "x_i = 0\n",
    "y_i = 0\n",
    "x_min = 0\n",
    "x_max = 10\n",
    "y_min = 0\n",
    "y_max = 10\n",
    "x_f = x_max\n",
    "y_f = y_max\n",
    "\n",
    "k = 0\n",
    "order = 4\n",
    "\n",
    "M_vec, K_vec = f_SAW_kM_nn(x_i,y_i,x_f,y_f,x_min,x_max,y_min,y_max,order)"
   ]
  },
  {
   "cell_type": "code",
   "execution_count": 331,
   "metadata": {},
   "outputs": [
    {
     "data": {
      "image/png": "[encoded data removed]",
      "text/plain": [
       "<Figure size 432x288 with 1 Axes>"
      ]
     },
     "metadata": {
      "needs_background": "light"
     },
     "output_type": "display_data"
    },
    {
     "name": "stdout",
     "output_type": "stream",
     "text": [
      "1.62594674118533e+23\n"
     ]
    }
   ],
   "source": [
    "f_Plot(M_vec,K_vec)\n",
    "print(K_vec[np.size(K_vec)-1])"
   ]
  },
  {
   "cell_type": "markdown",
   "metadata": {},
   "source": [
    "### c) For each experiment in a) and b), plot the distribution of the lengths, N, of the SAWs in a histogram (Think: Do you need to weight the SAWs in calculating the histogram?) and visualize (print) the longest SAW that you find."
   ]
  },
  {
   "cell_type": "code",
   "execution_count": 376,
   "metadata": {},
   "outputs": [],
   "source": [
    "# This function computes the distribution\n",
    "# of the lengths of SAW samples.\n",
    "def f_SAW_kM_N(x_i,y_i,x_min,x_max,y_min,y_max,k,M,max_l,method=1):\n",
    "\n",
    "    N_vec = np.zeros(max_l)\n",
    "\n",
    "    for j in np.arange(M):\n",
    "        # _, _, p = f_SAW(x_i,y_i,x_min,x_max,y_min,y_max)\n",
    "        _, _, p = f_SAW2(x_i,y_i,x_min,x_max,y_min,y_max,method)\n",
    "        k += 1/p\n",
    "        # if x_vec[np.size(x_vec)-1] == x_f and y_vec[np.size(y_vec)-1] == y_f:\n",
    "        #    k += 1/p\n",
    "        # Increment the counter in the index corresponding to\n",
    "        # the length of the SAW, weighting the counter by 1/p.\n",
    "        N_vec[np.size(x_vec)-1] += 1/p\n",
    "        \n",
    "    K = k/M # Total number of SAWs\n",
    "    \n",
    "    return(M_vec, K_vec, N_vec)"
   ]
  },
  {
   "cell_type": "code",
   "execution_count": 372,
   "metadata": {},
   "outputs": [],
   "source": [
    "M = 1e4 # Number of samples\n",
    "max_l = 120 # Max SAW length"
   ]
  },
  {
   "cell_type": "markdown",
   "metadata": {},
   "source": [
    "### Histogram for Method 1:"
   ]
  },
  {
   "cell_type": "code",
   "execution_count": 347,
   "metadata": {},
   "outputs": [],
   "source": [
    "_, _, N_vec1 = f_SAW_kM_N(x_i,y_i,x_min,x_max,y_min,y_max,k,M,max_l,method=1)"
   ]
  },
  {
   "cell_type": "code",
   "execution_count": 343,
   "metadata": {},
   "outputs": [
    {
     "data": {
      "image/png": "[encoded data removed]",
      "text/plain": [
       "<Figure size 432x288 with 1 Axes>"
      ]
     },
     "metadata": {
      "needs_background": "light"
     },
     "output_type": "display_data"
    }
   ],
   "source": [
    "# Histogram:\n",
    "plt.hist(np.arange(max_l),weights=N_vec1,bins=max_l)\n",
    "plt.xlabel('Length', fontsize=14)\n",
    "plt.ylabel('Count', fontsize=14)\n",
    "plt.grid()\n",
    "plt.show()"
   ]
  },
  {
   "cell_type": "markdown",
   "metadata": {},
   "source": [
    "### Histogram for Method 2:"
   ]
  },
  {
   "cell_type": "code",
   "execution_count": 348,
   "metadata": {},
   "outputs": [],
   "source": [
    "_, _, N_vec2 = f_SAW_kM_N(x_i,y_i,x_min,x_max,y_min,y_max,k,M,max_l,method=2)"
   ]
  },
  {
   "cell_type": "code",
   "execution_count": 349,
   "metadata": {},
   "outputs": [
    {
     "data": {
      "image/png": "[encoded data removed]",
      "text/plain": [
       "<Figure size 432x288 with 1 Axes>"
      ]
     },
     "metadata": {
      "needs_background": "light"
     },
     "output_type": "display_data"
    }
   ],
   "source": [
    "# Histogram:\n",
    "plt.hist(np.arange(max_l),weights=N_vec2,bins=max_l)\n",
    "plt.xlabel('Length', fontsize=14)\n",
    "plt.ylabel('Count', fontsize=14)\n",
    "plt.grid()\n",
    "plt.show()"
   ]
  },
  {
   "cell_type": "markdown",
   "metadata": {},
   "source": [
    "### Histogram for Method 3:"
   ]
  },
  {
   "cell_type": "code",
   "execution_count": 350,
   "metadata": {},
   "outputs": [],
   "source": [
    "_, _, N_vec3 = f_SAW_kM_N(x_i,y_i,x_min,x_max,y_min,y_max,k,M,max_l,method=3)"
   ]
  },
  {
   "cell_type": "code",
   "execution_count": 352,
   "metadata": {},
   "outputs": [
    {
     "data": {
      "image/png": "[encoded data removed]",
      "text/plain": [
       "<Figure size 432x288 with 1 Axes>"
      ]
     },
     "metadata": {
      "needs_background": "light"
     },
     "output_type": "display_data"
    }
   ],
   "source": [
    "# Histogram:\n",
    "plt.hist(np.arange(max_l),weights=N_vec3,bins=max_l)\n",
    "plt.xlabel('Length', fontsize=14)\n",
    "plt.ylabel('Count', fontsize=14)\n",
    "plt.grid()\n",
    "plt.show()"
   ]
  },
  {
   "cell_type": "code",
   "execution_count": null,
   "metadata": {},
   "outputs": [],
   "source": []
  }
 ],
 "metadata": {
  "kernelspec": {
   "display_name": "Python 3",
   "language": "python",
   "name": "python3"
  },
  "language_info": {
   "codemirror_mode": {
    "name": "ipython",
    "version": 3
   },
   "file_extension": ".py",
   "mimetype": "text/x-python",
   "name": "python",
   "nbconvert_exporter": "python",
   "pygments_lexer": "ipython3",
   "version": "3.7.4"
  }
 },
 "nbformat": 4,
 "nbformat_minor": 2
}

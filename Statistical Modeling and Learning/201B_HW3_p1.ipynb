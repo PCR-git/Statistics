{
 "cells": [
  {
   "cell_type": "markdown",
   "metadata": {},
   "source": [
    "# Stats 201B - Homework 3\n",
    "\n",
    "## Peter Racioppo (103953689)"
   ]
  },
  {
   "cell_type": "markdown",
   "metadata": {},
   "source": [
    "## Problem 1"
   ]
  },
  {
   "cell_type": "code",
   "execution_count": 135,
   "metadata": {},
   "outputs": [],
   "source": [
    "import numpy as np\n",
    "import pandas as pd\n",
    "from scipy import special\n",
    "import statsmodels.api as sm\n",
    "import matplotlib.pyplot as plt"
   ]
  },
  {
   "cell_type": "code",
   "execution_count": 136,
   "metadata": {},
   "outputs": [],
   "source": [
    "# Load the data\n",
    "ncog = pd.read_csv(\"ncog.txt\", delimiter = \" \")\n",
    "ncog.sort_values([\"arm\",\"t\"], inplace = True)\n",
    "ncog.reset_index(drop = True, inplace = True)\n",
    "# ncog.head()"
   ]
  },
  {
   "cell_type": "code",
   "execution_count": 137,
   "metadata": {},
   "outputs": [],
   "source": [
    "# Rename and define new variables:\n",
    "\n",
    "# Convert from days to months:\n",
    "ncog[\"months_study\"] = (ncog.t*(12/365)).astype(\"int\") + 1\n",
    "\n",
    "ncogA_i = ncog.loc[ncog.arm == \"A\"]\n",
    "ncogB_i = ncog.loc[ncog.arm == \"B\"]\n",
    "\n",
    "ncogA_i = ncogA_i.groupby(\"months_study\").agg({\"t\": \"count\", \"d\": \"sum\"}\n",
    ").rename(columns={\"t\": \"n_i\", \"d\": \"y\"})\n",
    "\n",
    "ncogB_i = ncogB_i.groupby(\"months_study\").agg({\"t\": \"count\", \"d\": \"sum\"}\n",
    ").rename(columns={\"t\": \"n_i\", \"d\": \"y\"})\n",
    "\n",
    "ncogA_i[\"l\"] = ncogA_i.n_i - ncogA_i.y\n",
    "ncogB_i[\"l\"] = ncogB_i.n_i - ncogB_i.y\n",
    "\n",
    "# ncogA_i.tail()"
   ]
  },
  {
   "cell_type": "code",
   "execution_count": 138,
   "metadata": {},
   "outputs": [],
   "source": [
    "## Fill in missing months with zeros.\n",
    "def fill_data(data):\n",
    "    D = np.zeros((data.index.max(), 4), dtype=\"int\")\n",
    "\n",
    "    n = data.n_i.sum()\n",
    "    y = data.y.values\n",
    "    l = data.l.values\n",
    "\n",
    "    month_i = 0\n",
    "    i = 0\n",
    "    while i < data.shape[0]:\n",
    "        month = data.index[i]\n",
    "        while month != month_i + 1:\n",
    "            month_i = month_i + 1\n",
    "            D[month_i - 1, :] = [month_i, n, 0, 0]\n",
    "        y_i = y[i]\n",
    "        l_i = l[i]\n",
    "        month_i = month\n",
    "        \n",
    "        D[month - 1, :] = (month, n, y_i, l_i)\n",
    "        \n",
    "        n = n - (y_i + l_i)\n",
    "        i = i + 1\n",
    "    \n",
    "    return pd.DataFrame(D, columns=[\"Month\", \"n\", \"y\", \"l\"])"
   ]
  },
  {
   "cell_type": "code",
   "execution_count": 139,
   "metadata": {},
   "outputs": [],
   "source": [
    "ncog_monthsA = fill_data(ncogA_i)\n",
    "ncog_monthsB = fill_data(ncogB_i)\n",
    "# ncog_months_a.tail()"
   ]
  },
  {
   "cell_type": "code",
   "execution_count": 140,
   "metadata": {},
   "outputs": [],
   "source": [
    "# n = number at risk\n",
    "# y = number of deaths\n",
    "n_a = np.array(ncog_monthsA[[\"n\"]])\n",
    "y_a = np.array(ncog_monthsA[[\"y\"]])\n",
    "n_b = np.array(ncog_monthsB[[\"n\"]])[0:47]\n",
    "y_b = np.array(ncog_monthsB[[\"y\"]])[0:47]\n",
    "n_d = y_a + y_b\n",
    "n = n_a + n_b\n",
    "n_s = n - n_d\n",
    "h_a = np.array(y_a/n_a)"
   ]
  },
  {
   "cell_type": "code",
   "execution_count": 141,
   "metadata": {},
   "outputs": [
    {
     "name": "stdout",
     "output_type": "stream",
     "text": [
      "(47, 4)\n"
     ]
    }
   ],
   "source": [
    "k = np.arange(47)\n",
    "knot = 12\n",
    "km_t = k-knot\n",
    "km = [0 if i > 0 else i for i in km_t]\n",
    "X = np.transpose([np.ones(47),k,np.power(km,2),np.power(km,3)])\n",
    "print(np.shape(X))"
   ]
  },
  {
   "cell_type": "code",
   "execution_count": 31,
   "metadata": {},
   "outputs": [],
   "source": [
    "# # An attempt using linear regression:\n",
    "\n",
    "# lambd = np.log(h_a/(1-h_a))\n",
    "# # print(lambd)\n",
    "# from numpy import inf\n",
    "# lambd[lambd == -inf] = 0\n",
    "# ind = np.where(lambd != 0)[0]\n",
    "# lambd2 = lambd[ind]\n",
    "# X2 = X[ind,:]\n",
    "\n",
    "# from sklearn import linear_model\n",
    "# # Create linear regression object\n",
    "# regr = linear_model.LinearRegression(fit_intercept=False)\n",
    "# # Train the model using the training sets\n",
    "# regr.fit(X2,lambd2)\n",
    "# inte, alpha = regr.intercept_, regr.coef_\n",
    "# h_hat = 1/(1 + np.exp(-np.matmul(X2,alpha.T)))"
   ]
  },
  {
   "cell_type": "code",
   "execution_count": 142,
   "metadata": {},
   "outputs": [
    {
     "name": "stdout",
     "output_type": "stream",
     "text": [
      "(235, 4)\n"
     ]
    }
   ],
   "source": [
    "k2 = np.arange(47*5)/5\n",
    "knot = 12\n",
    "km_t2 = k2-knot\n",
    "km2 = [0 if i > 0 else i for i in km_t2]\n",
    "X2 = np.transpose([np.ones(47*5),k2,np.power(km2,2),np.power(km2,3)])\n",
    "print(np.shape(X2))"
   ]
  },
  {
   "cell_type": "code",
   "execution_count": 143,
   "metadata": {},
   "outputs": [],
   "source": [
    "import warnings\n",
    "warnings.filterwarnings(\"ignore\")"
   ]
  },
  {
   "cell_type": "code",
   "execution_count": 144,
   "metadata": {},
   "outputs": [],
   "source": [
    "from sklearn.linear_model import LogisticRegression\n",
    "clf_a = LogisticRegression(random_state=0).fit(X, y_a)\n",
    "clf_b = LogisticRegression(random_state=0).fit(X, y_b)\n",
    "\n",
    "d_a_hat = clf_a.predict_proba(X2)\n",
    "d_b_hat = clf_b.predict_proba(X2)\n",
    "# alpha = clf.coef_\n",
    "# hk = 1/(1+np.exp(-np.sum(np.matmul(X,alpha.T),1)))\n",
    "\n",
    "c_a = np.arange(np.shape(d_a_hat)[1])+1\n",
    "c_b = np.arange(np.shape(d_b_hat)[1])+1\n",
    "# print(np.shape(c*d_hat))\n",
    "t_a = np.sum(c_a*d_a_hat,1)\n",
    "t_b = np.sum(c_b*d_b_hat,1)"
   ]
  },
  {
   "cell_type": "code",
   "execution_count": 147,
   "metadata": {},
   "outputs": [
    {
     "data": {
      "image/png": "[encoded data removed]",
      "text/plain": [
       "<Figure size 432x288 with 1 Axes>"
      ]
     },
     "metadata": {
      "needs_background": "light"
     },
     "output_type": "display_data"
    }
   ],
   "source": [
    "plt.plot(k2,t_a,label=\"Arm A\")\n",
    "plt.plot(k2,t_b,label=\"Arm B\")\n",
    "plt.suptitle('Parametric Death Rate Estimate', fontsize=14)\n",
    "plt.xlabel('Months', fontsize=14)\n",
    "plt.ylabel('Deaths per Month', fontsize=14)\n",
    "plt.legend()\n",
    "plt.grid()\n",
    "plt.show()"
   ]
  },
  {
   "cell_type": "code",
   "execution_count": 305,
   "metadata": {},
   "outputs": [],
   "source": [
    "# # Y = [y_a[:,-1],n_a[1:]-y_a[:,-1]]\n",
    "# Y = np.concatenate((y_a,n_a),1)"
   ]
  },
  {
   "cell_type": "markdown",
   "metadata": {},
   "source": [
    "## Problem 2"
   ]
  },
  {
   "cell_type": "code",
   "execution_count": 21,
   "metadata": {},
   "outputs": [
    {
     "name": "stdout",
     "output_type": "stream",
     "text": [
      "[[0.53125   ]\n",
      " [1.57894737]\n",
      " [3.13043478]\n",
      " [3.45882353]\n",
      " [6.66666667]\n",
      " [5.41538462]]\n",
      "[[1.41509434]\n",
      " [1.46938776]\n",
      " [1.36956522]\n",
      " [1.3255814 ]\n",
      " [0.41025641]\n",
      " [0.40540541]\n",
      " [0.        ]]\n"
     ]
    }
   ],
   "source": [
    "E_a = n_a*n_d/n\n",
    "V_a = n_a*n_b*n_d*n_s/((n**2)*(n-1))\n",
    "\n",
    "print(E_a[0:6])\n",
    "print(E_a[6:13])"
   ]
  },
  {
   "cell_type": "markdown",
   "metadata": {},
   "source": [
    "## Problem 3"
   ]
  },
  {
   "cell_type": "markdown",
   "metadata": {},
   "source": [
    "### The hypergeometric distribution gives the probability of k random draws from a finite set, without replacement. In this case, in a given month, we are randomly \"drawing\" y deaths from n people at risk. We draw without replacement since the set of people at risk in a particular month decreases by the number who died in the previous month. In addition, we have to account for the fact that a given patient may be in set A or set B."
   ]
  },
  {
   "cell_type": "markdown",
   "metadata": {},
   "source": [
    "## Problem 4"
   ]
  },
  {
   "cell_type": "code",
   "execution_count": 586,
   "metadata": {},
   "outputs": [
    {
     "name": "stdout",
     "output_type": "stream",
     "text": [
      "(2, 40)\n",
      "(2, 40)\n"
     ]
    },
    {
     "data": {
      "image/png": "[encoded data removed]",
      "text/plain": [
       "<Figure size 432x288 with 1 Axes>"
      ]
     },
     "metadata": {
      "needs_background": "light"
     },
     "output_type": "display_data"
    }
   ],
   "source": [
    "# Bivariate normal data\n",
    "mu1 = 2\n",
    "mu2 = 1\n",
    "means = [mu1, mu2]\n",
    "cov = [[1, 0.5], [0.5, 1]]\n",
    "n = 40\n",
    "data = np.random.multivariate_normal(means,cov,n).T\n",
    "print(np.shape(data))\n",
    "data0 = data[0,:]\n",
    "data1 = data[1,0:20]\n",
    "data2 = data[1,20:40]*0\n",
    "# print(np.shape(data1))\n",
    "# print(np.shape(data2))\n",
    "data1c = np.concatenate((data1, data2))\n",
    "datac = np.vstack((data0, data1c))\n",
    "print(np.shape(datac))\n",
    "\n",
    "plt.scatter(data[0,:],data[1,:],s=20,color='k')\n",
    "plt.scatter(datac[0,:],datac[1,:],s=5,color='y')\n",
    "# plt.suptitle('test title', fontsize=14)\n",
    "plt.xlabel('x1', fontsize=14)\n",
    "plt.ylabel('x2', fontsize=14)\n",
    "plt.grid()\n",
    "plt.show()"
   ]
  },
  {
   "cell_type": "code",
   "execution_count": 587,
   "metadata": {},
   "outputs": [],
   "source": [
    "def M_step(data):\n",
    "\n",
    "    n = np.shape(data)[1]\n",
    "    \n",
    "    x1 = data[0,:]\n",
    "    x2 = data[1,:]\n",
    "\n",
    "#     print(x1)\n",
    "    \n",
    "    mu1h = np.sum(x1)/n\n",
    "    mu2h = np.sum(x2)/n\n",
    "\n",
    "    sig1h = np.sqrt(np.sum((x1 - mu1h)**2)/n)\n",
    "    sig2h = np.sqrt(np.sum((x2 - mu2h)**2)/n)\n",
    "\n",
    "    rhoh = np.sum((x1 - mu1h)*(x2 - mu2h)/40)/(sig1h*sig2h)\n",
    "    \n",
    "    theta = [mu1h, mu2h, sig1h, sig2h, rhoh]\n",
    "    \n",
    "    return theta"
   ]
  },
  {
   "cell_type": "code",
   "execution_count": 588,
   "metadata": {},
   "outputs": [],
   "source": [
    "x1 = datac[0,:]\n",
    "x2 = datac[1,:]\n",
    "theta = M_step(datac)\n",
    "x2 = E_step(x1,theta)"
   ]
  },
  {
   "cell_type": "code",
   "execution_count": 589,
   "metadata": {},
   "outputs": [],
   "source": [
    "def E_step(x1,theta):\n",
    "    mu1 = theta[0]\n",
    "    mu2 = theta[1]\n",
    "    sig1 = theta[2]\n",
    "    sig2 = theta[3]\n",
    "    rho = theta[4]\n",
    "    x2 = mu2 + rho*(sig2/sig1)*(x1-mu1)\n",
    "    return x2"
   ]
  },
  {
   "cell_type": "code",
   "execution_count": 590,
   "metadata": {},
   "outputs": [],
   "source": [
    "def EM(data,it):\n",
    "    x1 = data[0,:]\n",
    "    x1a = data[0,0:20]\n",
    "    x1b = data[0,20:40]\n",
    "    x2a = data[1,0:20]\n",
    "    for i in np.arange(it):\n",
    "        theta = M_step(data)\n",
    "        x2b = E_step(x1b,theta)\n",
    "        x2 = np.concatenate((x2a, x2b))\n",
    "        data = np.vstack((x1,x2))\n",
    "    \n",
    "    return(data)"
   ]
  },
  {
   "cell_type": "code",
   "execution_count": 591,
   "metadata": {},
   "outputs": [],
   "source": [
    "# def EM(data,it):\n",
    "#     x1 = data[0,:]\n",
    "#     for i in np.arange(it):\n",
    "#         theta = M_step(data)\n",
    "#         x2 = E_step(x1,theta)\n",
    "#         data = np.vstack((x1,x2))\n",
    "    \n",
    "#     return(data)"
   ]
  },
  {
   "cell_type": "code",
   "execution_count": 593,
   "metadata": {},
   "outputs": [
    {
     "data": {
      "image/png": "[encoded data removed]",
      "text/plain": [
       "<Figure size 432x288 with 1 Axes>"
      ]
     },
     "metadata": {
      "needs_background": "light"
     },
     "output_type": "display_data"
    }
   ],
   "source": [
    "dataf = EM(datac,20)\n",
    "\n",
    "plt.scatter(data[0,:],data[1,:],s=20,color='k')\n",
    "plt.scatter(dataf[0,:],dataf[1,:],s=5,color='y')\n",
    "plt.suptitle('EM Estimates', fontsize=14)\n",
    "plt.xlabel('x1', fontsize=14)\n",
    "plt.ylabel('x2', fontsize=14)\n",
    "plt.grid()\n",
    "plt.show()"
   ]
  },
  {
   "cell_type": "markdown",
   "metadata": {},
   "source": [
    "## Problem 5"
   ]
  },
  {
   "cell_type": "markdown",
   "metadata": {},
   "source": [
    "### Part 1"
   ]
  },
  {
   "cell_type": "code",
   "execution_count": 690,
   "metadata": {},
   "outputs": [
    {
     "data": {
      "image/png": "[encoded data removed]",
      "text/plain": [
       "<Figure size 432x288 with 1 Axes>"
      ]
     },
     "metadata": {
      "needs_background": "light"
     },
     "output_type": "display_data"
    }
   ],
   "source": [
    "# Load the data\n",
    "kid = pd.read_csv(\"kidney.txt\", delimiter = \" \")\n",
    "x = np.array(kid.age)\n",
    "y = np.array(kid.tot)\n",
    "plt.scatter(x,y)\n",
    "plt.grid()\n",
    "plt.show()"
   ]
  },
  {
   "cell_type": "code",
   "execution_count": 601,
   "metadata": {},
   "outputs": [],
   "source": [
    "# Compute jacknife standard error of correlation.\n",
    "def samp_corr(x,y):\n",
    "    n = np.shape(x)[0]\n",
    "    xb = np.sum(x)/n\n",
    "    yb = np.sum(y)/n\n",
    "\n",
    "    num = np.sum((x-xb)*(y-yb))\n",
    "    denom1 = np.sum((x-xb)**2)\n",
    "    denom2 = np.sum((y-yb)**2)\n",
    "    denom = np.sqrt(denom1*denom2)\n",
    "    s = num/denom\n",
    "    return(s)\n",
    "\n",
    "# Remove ith element of vector:\n",
    "def quitar(x,i):\n",
    "    x2 = x\n",
    "    z = np.delete(x2,[i])\n",
    "    return(z)"
   ]
  },
  {
   "cell_type": "code",
   "execution_count": 602,
   "metadata": {},
   "outputs": [
    {
     "name": "stdout",
     "output_type": "stream",
     "text": [
      "Standard Error = 0.0582285885521276\n"
     ]
    }
   ],
   "source": [
    "def jacknife(x,y):\n",
    "    n = np.shape(x)[0]\n",
    "    sumi = 0\n",
    "\n",
    "    theta_sum = 0\n",
    "    for i in np.arange(n):\n",
    "        x_i = quitar(x,i)\n",
    "        y_i = quitar(y,i)\n",
    "        theta_i = samp_corr(x_i,y_i)\n",
    "        theta_sum = theta_sum + theta_i\n",
    "    theta_b = theta_sum/n\n",
    "\n",
    "    theta_m = np.zeros(n)\n",
    "    for i in np.arange(n):\n",
    "        x_i = quitar(x,i)\n",
    "        y_i = quitar(y,i)\n",
    "        theta_i = samp_corr(x_i,y_i)\n",
    "        theta_m[i] = theta_i - theta_b\n",
    "        sumi = sumi + theta_m[i]**2\n",
    "\n",
    "    se_jack = np.sqrt(((n-1)/n)*sumi)\n",
    "    return [se_jack, theta_m]\n",
    "\n",
    "se_jack, theta_m = jacknife(x,y)\n",
    "print(\"Standard Error =\", se_jack)"
   ]
  },
  {
   "cell_type": "markdown",
   "metadata": {},
   "source": [
    "### Part 2"
   ]
  },
  {
   "cell_type": "code",
   "execution_count": 606,
   "metadata": {},
   "outputs": [
    {
     "data": {
      "image/png": "[encoded data removed]",
      "text/plain": [
       "<Figure size 432x288 with 1 Axes>"
      ]
     },
     "metadata": {
      "needs_background": "light"
     },
     "output_type": "display_data"
    }
   ],
   "source": [
    "n = np.shape(x)[0]\n",
    "plt.plot(np.arange(n),theta_m)\n",
    "plt.suptitle('{θ(i) − θ(·)}', fontsize=14)\n",
    "plt.xlabel('i', fontsize=14)\n",
    "plt.ylabel('θ(i) − θ(·)', fontsize=14)\n",
    "plt.grid()\n",
    "plt.show()"
   ]
  },
  {
   "cell_type": "markdown",
   "metadata": {},
   "source": [
    "#### Higher indices appear to make the greater contribution."
   ]
  },
  {
   "cell_type": "markdown",
   "metadata": {},
   "source": [
    "### Part 3"
   ]
  },
  {
   "cell_type": "code",
   "execution_count": 676,
   "metadata": {},
   "outputs": [],
   "source": [
    "# Algorithm 10.1 A Python program for the nonparametric bootstrap.\n",
    "def Boot(x,y,B):\n",
    "    # x is data vector or matrix (with each row a case)\n",
    "    # B is number of bootstrap replications\n",
    "\n",
    "    n = np.shape(x)[0]\n",
    "    fmat = np.zeros(B)\n",
    "    for b in np.arange(B):\n",
    "        i = np.random.choice(np.arange(n), size = n, replace=True)\n",
    "        x_samp = x[i]\n",
    "        y_samp = y[i]\n",
    "        fmat[b] = samp_corr(x_samp,y_samp)\n",
    "    \n",
    "    return fmat"
   ]
  },
  {
   "cell_type": "code",
   "execution_count": 697,
   "metadata": {},
   "outputs": [
    {
     "name": "stdout",
     "output_type": "stream",
     "text": [
      "bootstrap standard error = 0.05956514115061613\n"
     ]
    }
   ],
   "source": [
    "B = 1000\n",
    "s = Boot(x,y,B)\n",
    "# sb = mean(s)\n",
    "# np.sqrt(np.sum((s-sb)**2)/(n-1))\n",
    "boot_std = np.std(s)\n",
    "print(\"bootstrap standard error =\", boot_std)"
   ]
  },
  {
   "cell_type": "markdown",
   "metadata": {},
   "source": [
    "## Problem 6"
   ]
  },
  {
   "cell_type": "markdown",
   "metadata": {},
   "source": [
    "### One should generate a large number of bootstrap samples of beta, by sampling the rows of X and y with replacement and then calculating the least-squares estimate. The sample standard deviation of each column of the sampled beta values can then be easily computed.\n",
    "\n",
    "### An implementation for the two-dimensional case is included below:"
   ]
  },
  {
   "cell_type": "code",
   "execution_count": 95,
   "metadata": {},
   "outputs": [
    {
     "name": "stdout",
     "output_type": "stream",
     "text": [
      "[0.98216753 0.907857  ]\n"
     ]
    },
    {
     "data": {
      "image/png": "[encoded data removed]",
      "text/plain": [
       "<Figure size 432x288 with 1 Axes>"
      ]
     },
     "metadata": {
      "needs_background": "light"
     },
     "output_type": "display_data"
    }
   ],
   "source": [
    "# Generate data:\n",
    "n = 40\n",
    "x = np.arange(-20,20)/10\n",
    "x1 = np.ones(n)\n",
    "X = np.vstack((x1,x)).T\n",
    "beta = np.random.uniform(-1, 1, 2)\n",
    "print(beta)\n",
    "eps = np.random.normal(0,1,n)\n",
    "y = np.matmul(X,beta) + eps\n",
    "\n",
    "plt.scatter(x,y,s=20,color='k')\n",
    "plt.xlabel('x1', fontsize=14)\n",
    "plt.ylabel('x2', fontsize=14)\n",
    "plt.grid()\n",
    "plt.show()"
   ]
  },
  {
   "cell_type": "code",
   "execution_count": 97,
   "metadata": {
    "scrolled": true
   },
   "outputs": [
    {
     "name": "stdout",
     "output_type": "stream",
     "text": [
      "[0.90910993 0.92146686]\n"
     ]
    }
   ],
   "source": [
    "from numpy import linalg\n",
    "# Least squares estimate:\n",
    "def f_LS(X,y):\n",
    "    # beta_hat = S^-1 * X.T * y, S = X.T * X\n",
    "    S = np.matmul(X.T,X)\n",
    "    S_inv = np.linalg.inv(S)\n",
    "    beta_hat = np.matmul(S_inv,np.matmul(X.T,y))\n",
    "    return(beta_hat)\n",
    "\n",
    "beta_hat = f_LS(X,y)\n",
    "print(beta_hat)"
   ]
  },
  {
   "cell_type": "code",
   "execution_count": 119,
   "metadata": {},
   "outputs": [],
   "source": [
    "# Algorithm 10.1 A Python program for the nonparametric bootstrap.\n",
    "def Boot(X,y,B):\n",
    "    # X is data vector or matrix (with each row a case)\n",
    "    # B is number of bootstrap replications\n",
    "\n",
    "    n = np.shape(X)[0]\n",
    "    m = np.shape(X)[1]\n",
    "    fmat = np.zeros((m,B))\n",
    "    for b in np.arange(B):\n",
    "        i = np.random.choice(np.arange(n), size = n, replace=True)\n",
    "        X_samp = X[i,:]\n",
    "        y_samp = y[i]\n",
    "        fmat[:,b] = f_LS(X_samp,y_samp)\n",
    "\n",
    "    return(fmat.T)"
   ]
  },
  {
   "cell_type": "code",
   "execution_count": 128,
   "metadata": {},
   "outputs": [
    {
     "name": "stdout",
     "output_type": "stream",
     "text": [
      "bootstrap standard error = [0.17444749460351924, 0.155280232345278]\n"
     ]
    }
   ],
   "source": [
    "B = 1000\n",
    "beta = Boot(X,y,B)\n",
    "# print(beta)\n",
    "boot_std = [np.std(beta[:,0]), np.std(beta[:,1])]\n",
    "print(\"bootstrap standard error =\", boot_std)"
   ]
  },
  {
   "cell_type": "markdown",
   "metadata": {},
   "source": [
    "## Problem 8"
   ]
  },
  {
   "cell_type": "code",
   "execution_count": 101,
   "metadata": {},
   "outputs": [],
   "source": [
    "# Generate data:\n",
    "nx = 47\n",
    "ny = 25\n",
    "x = np.random.normal(0,1,nx)\n",
    "y = np.random.normal(0,1,ny)"
   ]
  },
  {
   "cell_type": "code",
   "execution_count": 102,
   "metadata": {},
   "outputs": [],
   "source": [
    "# Computes difference of sample means:\n",
    "def f_theta_hat(x,y):\n",
    "    return (np.mean(y) - np.mean(x))\n",
    "\n",
    "# Computes sample standard error:\n",
    "def f_se_hat(x,y):\n",
    "    nx = np.shape(x)[0]\n",
    "    ny = np.shape(y)[0]\n",
    "    xb = np.mean(x)\n",
    "    yb = np.mean(y)\n",
    "    se_hat = np.sqrt((1/nx + 1/ny) * (sum((x-xb)**2) + sum((y-yb)**2)) / (nx + ny - 2))\n",
    "    return(se_hat)"
   ]
  },
  {
   "cell_type": "code",
   "execution_count": 103,
   "metadata": {},
   "outputs": [],
   "source": [
    "# Algorithm 10.1 A Python program for the nonparametric bootstrap.\n",
    "def Boot(x,y,B):\n",
    "    # x is data vector or matrix (with each row a case)\n",
    "    # B is number of bootstrap replications\n",
    "\n",
    "    nx = np.shape(x)[0]\n",
    "    ny = np.shape(y)[0]\n",
    "    theta_hat = np.zeros(B)\n",
    "    se_hat = np.zeros(B)\n",
    "    for b in np.arange(B):\n",
    "        i = np.random.choice(np.arange(nx), size = nx, replace=True)\n",
    "        j = np.random.choice(np.arange(ny), size = ny, replace=True)\n",
    "        x_samp = x[i]\n",
    "        y_samp = y[j]\n",
    "        theta_hat[b] = f_theta_hat(x_samp,y_samp)\n",
    "        se_hat[b] = f_se_hat(x_samp,y_samp)\n",
    "\n",
    "    return(theta_hat, se_hat)\n",
    "\n",
    "def f_bootstrap_t(theta_hat_star, theta_hat, se_hat_star):\n",
    "    t_star = (theta_hat_star - theta_hat)/se_hat_star\n",
    "    return t_star"
   ]
  },
  {
   "cell_type": "code",
   "execution_count": 104,
   "metadata": {},
   "outputs": [],
   "source": [
    "B = 2000\n",
    "theta_hat = f_theta_hat(x,y)\n",
    "[theta_hat_star, se_hat_star] = Boot(x,y,B)"
   ]
  },
  {
   "cell_type": "code",
   "execution_count": 105,
   "metadata": {},
   "outputs": [],
   "source": [
    "t_star = f_bootstrap_t(theta_hat_star, theta_hat, se_hat_star)"
   ]
  },
  {
   "cell_type": "code",
   "execution_count": 132,
   "metadata": {},
   "outputs": [
    {
     "data": {
      "image/png": "[encoded data removed]",
      "text/plain": [
       "<Figure size 432x288 with 1 Axes>"
      ]
     },
     "metadata": {
      "needs_background": "light"
     },
     "output_type": "display_data"
    },
    {
     "name": "stdout",
     "output_type": "stream",
     "text": [
      "t*_0.025 = -2.321743000627957\n",
      "t*_0.975 = 2.0866348840062017\n"
     ]
    }
   ],
   "source": [
    "from scipy.stats import t\n",
    "x_ax = np.arange(-40,40)/10\n",
    "\n",
    "plt.hist(t_star,bins = 25, density = True,histtype=\"bar\",rwidth=0.9)\n",
    "plt.plot(x_ax, t.pdf(x_ax,df=21),'k-',lw=1,label='t pdf')\n",
    "plt.suptitle('Bootstrap t* Intervals', fontsize=14)\n",
    "plt.xlabel('t* values', fontsize=14)\n",
    "plt.ylabel('Frequency', fontsize=14)\n",
    "plt.grid()\n",
    "plt.show()\n",
    "\n",
    "p_l = np.percentile(t_star, 2.5)\n",
    "p_h = np.percentile(t_star, 97.5)\n",
    "\n",
    "print(\"t*_0.025 =\", p_l)\n",
    "print(\"t*_0.975 =\", p_h)"
   ]
  },
  {
   "cell_type": "markdown",
   "metadata": {},
   "source": [
    "### How reasonable (11.54) is depends entirely on the means and standard deviations of the normal distributions from which we sample. Since these values aren't provided, I can't comment on the accuracy of the result in the textbook.\n",
    "\n",
    "### However, note that the percentile values for a standard t_21 distribution are (-2.08, 2.08), which are not far from our values."
   ]
  },
  {
   "cell_type": "code",
   "execution_count": null,
   "metadata": {},
   "outputs": [],
   "source": []
  }
 ],
 "metadata": {
  "kernelspec": {
   "display_name": "Python 3",
   "language": "python",
   "name": "python3"
  },
  "language_info": {
   "codemirror_mode": {
    "name": "ipython",
    "version": 3
   },
   "file_extension": ".py",
   "mimetype": "text/x-python",
   "name": "python",
   "nbconvert_exporter": "python",
   "pygments_lexer": "ipython3",
   "version": "3.7.4"
  }
 },
 "nbformat": 4,
 "nbformat_minor": 2
}

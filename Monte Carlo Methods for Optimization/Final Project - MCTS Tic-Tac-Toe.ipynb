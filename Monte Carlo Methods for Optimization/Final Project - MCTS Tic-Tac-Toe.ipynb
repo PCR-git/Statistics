{
 "cells": [
  {
   "cell_type": "markdown",
   "metadata": {},
   "source": [
    "## Monte Carlo Tree Search for Tic-Tac-Toe\n",
    "\n",
    "### Peter Racioppo"
   ]
  },
  {
   "cell_type": "code",
   "execution_count": 1,
   "metadata": {},
   "outputs": [],
   "source": [
    "# Imports\n",
    "\n",
    "import numpy as np\n",
    "import matplotlib.pyplot as plt\n",
    "from pylab import rcParams\n",
    "\n",
    "import random\n",
    "import math\n",
    "from scipy.linalg import eig"
   ]
  },
  {
   "cell_type": "markdown",
   "metadata": {},
   "source": [
    "### Basic board functionality and a function to play random games:"
   ]
  },
  {
   "cell_type": "code",
   "execution_count": 2,
   "metadata": {},
   "outputs": [],
   "source": [
    "# This function plots the tic-tac-toe board:\n",
    "def f_Plot_board(M, Winner):\n",
    "    # Inputs:\n",
    "    # M, a matrix which keeps track of pieces on the board\n",
    "    # Winner, an indicator for who one (1 for X, -1 for O, 0 for draw)\n",
    "    \n",
    "    # Print who won:\n",
    "    if Winner == 1:\n",
    "        print(\"X wins!\")\n",
    "    elif Winner == -1:\n",
    "        print(\"O wins!\")\n",
    "    else:\n",
    "        print(\"Draw!\")\n",
    "    \n",
    "    fig = plt.figure()\n",
    "    ax = fig.add_subplot(1, 1, 1)\n",
    "    plt.gca().set_aspect('equal', adjustable='box')\n",
    "    \n",
    "    # Loop through the boxes in the grid and plot the pieces on the board:\n",
    "    # Note: Our matrix is indexed from left to right and from top to bottom,\n",
    "    # but our board is indexed from left to right and from bottom to top.\n",
    "    n = np.shape(M)[0]\n",
    "    for i in np.arange(n):\n",
    "        for j in np.arange(n):\n",
    "            if M.T[i,n-1-j] == 1:\n",
    "                plt.scatter(i+0.5,j+0.5,s=100,c=\"r\",marker=\"x\")\n",
    "            elif M.T[i,n-1-j] == -1:\n",
    "                plt.scatter(i+0.5,j+0.5,s=100,marker=\"o\",facecolors='none', edgecolors='b')\n",
    "    \n",
    "    plt.xlim(0, n)\n",
    "    plt.ylim(0, n)\n",
    "    major_ticks = np.arange(0, n+1, 1)\n",
    "    ax.set_xticks(major_ticks)\n",
    "    ax.set_yticks(major_ticks)\n",
    "    ax.grid(which='both')\n",
    "    plt.show()"
   ]
  },
  {
   "cell_type": "code",
   "execution_count": 4,
   "metadata": {},
   "outputs": [],
   "source": [
    "# Plays a random game of Tic-tac-toe on an n x n board:\n",
    "def f_Rand_TTT(n=3):\n",
    "    # Input: n, the board dimension.\n",
    "    \n",
    "    pos = list(range(n**2)) # List of possible moves\n",
    "\n",
    "    # v is a list version of the matrix representing the board.\n",
    "    # It holds the moves that have been made in each position:\n",
    "    # 1 for X, -1 for O, 0 for no piece.\n",
    "    v = np.zeros(n**2)\n",
    "    # While there is a valid move:\n",
    "    for i in np.arange(n**2):\n",
    "        move = np.random.choice(pos) # Choose a random move from the remaining possibilities\n",
    "        idx = pos.index(move)\n",
    "        del pos[idx] # Remove our new move from the list of possibilities\n",
    "        # Append the move to the list of moves:\n",
    "        if np.mod(i,2) == 0:\n",
    "            v[move] = 1\n",
    "        else:\n",
    "            v[move] = -1\n",
    "\n",
    "        # Check if someone won:\n",
    "        M = np.reshape(v,[n,n]) # Reshape the list to a matrix\n",
    "        Winner = 0 # Default to draw\n",
    "        # If X occupies an entire row or an entire column or the main diagonal or the off diagonal, X wins:\n",
    "        if n in M.sum(axis=1) or n in M.sum(axis=0) or np.trace(M) == n or np.trace(np.fliplr(M)) == n:\n",
    "            Winner = 1\n",
    "            break\n",
    "        # If O occupies an entire row or an entire column or the main diagonal or the off diagonal, O wins:\n",
    "        elif -n in M.sum(axis=1) or -n in M.sum(axis=0) or np.trace(M) == -n or np.trace(np.fliplr(M)) == -n:\n",
    "            Winner = -1\n",
    "            break\n",
    "\n",
    "    # Outputs:\n",
    "    # M, a matrix which keeps track of pieces on the board\n",
    "    # Winner, an indicator for who one (1 for X, -1 for O, 0 for draw)\n",
    "    return M, Winner"
   ]
  },
  {
   "cell_type": "code",
   "execution_count": 5,
   "metadata": {},
   "outputs": [
    {
     "name": "stdout",
     "output_type": "stream",
     "text": [
      "X wins!\n"
     ]
    },
    {
     "data": {
      "image/png": "[encoded data removed]",
      "text/plain": [
       "<Figure size 432x288 with 1 Axes>"
      ]
     },
     "metadata": {
      "needs_background": "light"
     },
     "output_type": "display_data"
    },
    {
     "name": "stdout",
     "output_type": "stream",
     "text": [
      "[[ 1.  1. -1.]\n",
      " [-1.  1.  1.]\n",
      " [-1.  1. -1.]]\n"
     ]
    }
   ],
   "source": [
    "# Play a Random Game:\n",
    "n = 3\n",
    "M, Winner = f_Rand_TTT(n)\n",
    "f_Plot_board(M,Winner)\n",
    "\n",
    "print(M)"
   ]
  },
  {
   "cell_type": "code",
   "execution_count": 6,
   "metadata": {},
   "outputs": [
    {
     "name": "stdout",
     "output_type": "stream",
     "text": [
      "Draw!\n"
     ]
    },
    {
     "data": {
      "image/png": "[encoded data removed]",
      "text/plain": [
       "<Figure size 432x288 with 1 Axes>"
      ]
     },
     "metadata": {
      "needs_background": "light"
     },
     "output_type": "display_data"
    }
   ],
   "source": [
    "# Our functions support arbitrary board size:\n",
    "n = 5\n",
    "M, Winner = f_Rand_TTT(n)\n",
    "f_Plot_board(M,Winner)"
   ]
  },
  {
   "cell_type": "code",
   "execution_count": 3,
   "metadata": {},
   "outputs": [],
   "source": [
    "# Play N random games and calculate the percent won/lost/tied\n",
    "def f_Play_N_Random_Games(N=1000,n=3):\n",
    "\n",
    "    Win_Count = [] # Number of wins/losses/draws\n",
    "    for i in np.arange(N):\n",
    "        _, Winner = f_Rand_TTT(n) # Play a game and record Winner\n",
    "        Win_Count.append(Winner) # Append Winner to list\n",
    "\n",
    "    X_wins = np.shape(np.array(Win_Count)[np.where(np.array(Win_Count) == 1)])[0] # Total number of wins for X\n",
    "    O_wins = np.shape(np.array(Win_Count)[np.where(np.array(Win_Count) == -1)])[0] # Total number of wins for O\n",
    "    draws = np.shape(np.array(Win_Count)[np.where(np.array(Win_Count) == 0)])[0] # Total number of draws\n",
    "\n",
    "    percent_X_wins = 100*X_wins/N\n",
    "    percent_O_wins = 100*O_wins/N\n",
    "    percent_draws = 100*draws/N\n",
    "\n",
    "    print(\"Percent X wins =\", percent_X_wins, \"%\")\n",
    "    print(\"Percent O wins =\", percent_O_wins, \"%\")\n",
    "    print(\"Percent draws =\", percent_draws, \"%\")"
   ]
  },
  {
   "cell_type": "code",
   "execution_count": 8,
   "metadata": {},
   "outputs": [
    {
     "name": "stdout",
     "output_type": "stream",
     "text": [
      "Percent X wins = 58.34 %\n",
      "Percent O wins = 28.85 %\n",
      "Percent draws = 12.81 %\n"
     ]
    }
   ],
   "source": [
    "f_Play_N_Random_Games(N=10000,n=3)"
   ]
  },
  {
   "cell_type": "markdown",
   "metadata": {},
   "source": [
    "### Player X (who goes first) wins about 60% of games. Player O (who goes second) wins about 30% of games. This will be our baseline performance."
   ]
  },
  {
   "cell_type": "markdown",
   "metadata": {},
   "source": [
    "### Now we build a simple AI:\n",
    "\n",
    "### Let's begin with a simple Monte Carlo search that considers only the next move and then plays random games starting from each possible next move. The random games are played with replacement. For each move, we compute the total number of wins minus the total number of losses in our random games. We then pick the move that maximizes the number of wins minus the number of losses. This process amounts to maximizing an empirical estimate of the expectation of winning."
   ]
  },
  {
   "cell_type": "code",
   "execution_count": 4,
   "metadata": {},
   "outputs": [],
   "source": [
    "# Plays a random game starting from a position\n",
    "# specified by prev_x, prev_o, the positions where\n",
    "# x's and o's have already been played.\n",
    "def f_Rand_i(n,x_moves=[],o_moves=[]):\n",
    "\n",
    "    pos_i = list(range(n**2)) # List of all possible moves\n",
    "    prev_moves = x_moves + o_moves # List of all previous moves\n",
    "    pos_i = list(np.delete(pos_i,prev_moves)) # Remove previous moves from possible moves\n",
    "\n",
    "    v = np.zeros(n**2)\n",
    "    v[x_moves] = 1\n",
    "    v[o_moves] = -1\n",
    "    \n",
    "    M_i = np.reshape(v,[n,n]) # Reshape the list to a matrix\n",
    "    \n",
    "    Winner_i = 0\n",
    "    for i in np.arange(np.shape(pos_i)[0]):\n",
    "        move = np.random.choice(pos_i) # Choose a random move from the possibilities\n",
    "        idx = pos_i.index(move)\n",
    "        del pos_i[idx]\n",
    "        if np.mod(i,2) == 0:\n",
    "            v[move] = 1\n",
    "            x_moves.append(move)\n",
    "        else:\n",
    "            v[move] = -1\n",
    "            o_moves.append(move)\n",
    "\n",
    "        # Check if someone won:\n",
    "        M_i = np.reshape(v,[n,n]) # Reshape the list to a matrix\n",
    "        if n in M_i.sum(axis=1) or n in M_i.sum(axis=0) or np.trace(M_i) == n or np.trace(np.fliplr(M_i)) == n:\n",
    "            Winner_i = 1\n",
    "            break\n",
    "        elif -n in M_i.sum(axis=1) or -n in M_i.sum(axis=0) or np.trace(M_i) == -n or np.trace(np.fliplr(M_i)) == -n:\n",
    "            Winner_i = -1\n",
    "            break\n",
    "            \n",
    "    return x_moves, o_moves, M_i, Winner_i"
   ]
  },
  {
   "cell_type": "code",
   "execution_count": 14,
   "metadata": {},
   "outputs": [
    {
     "data": {
      "text/plain": [
       "[3, 4, 5, 6, 7, 8]"
      ]
     },
     "execution_count": 14,
     "metadata": {},
     "output_type": "execute_result"
    }
   ],
   "source": [
    "# Test\n",
    "\n",
    "n = 3\n",
    "pos = list(range(n**2))\n",
    "prev_moves = [0,1,2]\n",
    "pos = list(np.delete(pos,prev_moves))\n",
    "pos"
   ]
  },
  {
   "cell_type": "code",
   "execution_count": 15,
   "metadata": {},
   "outputs": [
    {
     "name": "stdout",
     "output_type": "stream",
     "text": [
      "X wins!\n"
     ]
    },
    {
     "data": {
      "image/png": "[encoded data removed]",
      "text/plain": [
       "<Figure size 432x288 with 1 Axes>"
      ]
     },
     "metadata": {
      "needs_background": "light"
     },
     "output_type": "display_data"
    }
   ],
   "source": [
    "# Test\n",
    "\n",
    "n = 3\n",
    "x_moves = [0,1]\n",
    "o_moves = [2]\n",
    "\n",
    "x_moves, o_moves, M, Winner = f_Rand_i(n,x_moves,o_moves)\n",
    "f_Plot_board(M,Winner)"
   ]
  },
  {
   "cell_type": "code",
   "execution_count": 5,
   "metadata": {},
   "outputs": [],
   "source": [
    "# Appends a test_move to the list of moves that have already been made.\n",
    "def f_Append_Test_Move(x_moves,o_moves,test_move,n):\n",
    "    \n",
    "    # Create copies to append the test value to:\n",
    "    x_moves_test = list(np.empty_like(x_moves))\n",
    "    o_moves_test = list(np.empty_like(o_moves))\n",
    "    x_moves_test[:] = x_moves\n",
    "    o_moves_test[:] = o_moves\n",
    "    \n",
    "    # If it's x's turn, append the test move to the list of x_moves\n",
    "    # (x went first)\n",
    "    if len(x_moves) <= len(o_moves):\n",
    "        x_moves_test += [test_move]\n",
    "    # If it's o's turn, append the test move to the list of o_moves\n",
    "    else:\n",
    "        o_moves_test += [test_move]\n",
    "        \n",
    "    return x_moves_test, o_moves_test"
   ]
  },
  {
   "cell_type": "code",
   "execution_count": 16,
   "metadata": {},
   "outputs": [
    {
     "name": "stdout",
     "output_type": "stream",
     "text": [
      "[0, 1]\n",
      "[2, [4]]\n"
     ]
    }
   ],
   "source": [
    "# Test\n",
    "\n",
    "x_moves = [0,1]\n",
    "o_moves = [2]\n",
    "\n",
    "test_move = [np.random.choice(pos)] # Choose a test move at random\n",
    "x_moves_test, o_moves_test = f_Append_Test_Move(x_moves,o_moves,test_move,n)\n",
    "print(x_moves_test)\n",
    "print(o_moves_test)"
   ]
  },
  {
   "cell_type": "code",
   "execution_count": 6,
   "metadata": {},
   "outputs": [],
   "source": [
    "# Branch, with replacement, from test move\n",
    "def f_Branch_from_test_move(x_moves,o_moves,test_move,n=3,it=100):\n",
    "    x_moves_test, o_moves_test = f_Append_Test_Move(x_moves,o_moves,test_move,n)\n",
    "    count = 0\n",
    "    for i in np.arange(it):\n",
    "        x_moves_i = list(np.empty_like(x_moves_test))\n",
    "        o_moves_i = list(np.empty_like(o_moves_test))\n",
    "        x_moves_i[:] = x_moves_test\n",
    "        o_moves_i[:] = o_moves_test\n",
    "        _, _, _, Winner_i = f_Rand_i(n,x_moves_i,o_moves_i)\n",
    "        count += Winner_i\n",
    "\n",
    "    return count"
   ]
  },
  {
   "cell_type": "code",
   "execution_count": 7,
   "metadata": {},
   "outputs": [],
   "source": [
    "# Given a list of possible moves, we consider\n",
    "# all posibilites for the next move. We then\n",
    "# randomly branch on each of these moves,\n",
    "# and return the number of wins minus the\n",
    "# number of losses for each.\n",
    "def f_Monte_Carlo_Outcomes(pos,x_moves,o_moves,n,it=100):\n",
    "    pos_test = list(np.empty_like(pos))\n",
    "    pos_test[:] = pos\n",
    "    L = np.shape(pos_test)[0]\n",
    "    Count_v = np.zeros(L)\n",
    "\n",
    "    for l in np.arange(L):\n",
    "        test_move = pos_test[l]\n",
    "        count = f_Branch_from_test_move(x_moves,o_moves,test_move,n=n,it=it)\n",
    "        Count_v[l] = count\n",
    "\n",
    "    return Count_v"
   ]
  },
  {
   "cell_type": "code",
   "execution_count": 55,
   "metadata": {},
   "outputs": [
    {
     "name": "stdout",
     "output_type": "stream",
     "text": [
      "[ 41. -31.  14.  -8.  33.  -9.]\n"
     ]
    }
   ],
   "source": [
    "Count_v = f_Monte_Carlo_Outcomes(pos,x_moves,o_moves,n)\n",
    "print(Count_v)"
   ]
  },
  {
   "cell_type": "code",
   "execution_count": 21,
   "metadata": {},
   "outputs": [
    {
     "name": "stdout",
     "output_type": "stream",
     "text": [
      "0.89\n"
     ]
    }
   ],
   "source": [
    "# Test\n",
    "# In what percent of games does X choose the center position as the first move?\n",
    "\n",
    "n = 3\n",
    "it = 100\n",
    "O_mode = 0\n",
    "X_mode = 1\n",
    "\n",
    "counter = 0\n",
    "iterations = 100\n",
    "\n",
    "pos = list(range(n**2)) # List of all possible moves\n",
    "\n",
    "for i in np.arange(iterations):\n",
    "\n",
    "    x_moves = []\n",
    "    o_moves = []\n",
    "\n",
    "    if (len(x_moves) <= len(o_moves)) and X_mode == 1:\n",
    "        Count_v = f_Monte_Carlo_Outcomes(pos,x_moves,o_moves,n,it)\n",
    "        idx = np.argmax(Count_v)\n",
    "    elif (len(x_moves) > len(o_moves)) and O_mode == 1:\n",
    "        Count_v = f_Monte_Carlo_Outcomes(pos,x_moves,o_moves,n,it)\n",
    "        idx = np.argmin(Count_v)\n",
    "    else:\n",
    "        idx = np.random.choice(np.arange(np.shape(pos)[0]))\n",
    "\n",
    "    new_move = pos[idx]\n",
    "\n",
    "    if new_move == 4:\n",
    "        counter += 1\n",
    "        \n",
    "print(counter/iterations)"
   ]
  },
  {
   "cell_type": "markdown",
   "metadata": {},
   "source": [
    "### Player 1 chooses the center box as its first move about 90% of the time."
   ]
  },
  {
   "cell_type": "code",
   "execution_count": 8,
   "metadata": {},
   "outputs": [],
   "source": [
    "# Plays a game of Tic-tac-toe on an n x n board,\n",
    "# using a pure Monte Carlo search algorithm.\n",
    "def f_Monte_Carlo_TTT(X_mode,O_mode,n=3,it=100):\n",
    "    # Inputs:\n",
    "    # X_mode = 1 for Monte Carlo algorithm, X_mode = 0 for random play\n",
    "    # O_mode = 1 for Monte Carlo algorithm, O_mode = 0 for random play\n",
    "    # n, the board dimension.\n",
    "    # it, the number of MC simulations for each test move\n",
    "\n",
    "    pos = list(range(n**2)) # List of possible moves\n",
    "\n",
    "    # v is a list version of the matrix representing the board.\n",
    "    # It holds the moves that have been made in each position:\n",
    "    # 1 for X, -1 for O, 0 for no piece.\n",
    "    v = np.zeros(n**2)\n",
    "\n",
    "    x_moves = []\n",
    "    o_moves = []\n",
    "\n",
    "    Winner = 0 # Default to draw\n",
    "    \n",
    "    # While there is a valid move:\n",
    "    for i in np.arange(n**2):\n",
    "        if np.mod(i,2) == 0 and X_mode == 1:\n",
    "            Count_v = f_Monte_Carlo_Outcomes(pos,x_moves,o_moves,n,it)\n",
    "            idx = np.argmax(Count_v)\n",
    "        elif np.mod(i,2) == 1 and O_mode == 1:\n",
    "            Count_v = f_Monte_Carlo_Outcomes(pos,x_moves,o_moves,n,it)\n",
    "            idx = np.argmin(Count_v)\n",
    "        else:\n",
    "            idx = np.random.choice(np.arange(np.shape(pos)[0]))\n",
    "\n",
    "        new_move = pos[idx]\n",
    "        del pos[idx]\n",
    "\n",
    "        # Append the move to the list of moves:\n",
    "        if np.mod(i,2) == 0:\n",
    "            x_moves += [new_move]\n",
    "            v[new_move] = 1\n",
    "        else:\n",
    "            o_moves += [new_move]\n",
    "            v[new_move] = -1\n",
    "\n",
    "        # Check if someone won:\n",
    "        M = np.reshape(v,[n,n]) # Reshape the list to a matrix\n",
    "        # If X occupies an entire row or an entire column or the main diagonal or the off diagonal, X wins:\n",
    "        if n in M.sum(axis=1) or n in M.sum(axis=0) or np.trace(M) == n or np.trace(np.fliplr(M)) == n:\n",
    "            Winner = 1\n",
    "            break\n",
    "        # If O occupies an entire row or an entire column or the main diagonal or the off diagonal, O wins:\n",
    "        elif -n in M.sum(axis=1) or -n in M.sum(axis=0) or np.trace(M) == -n or np.trace(np.fliplr(M)) == -n:\n",
    "            Winner = -1\n",
    "            break\n",
    "\n",
    "    # Outputs:\n",
    "    # M, a matrix which keeps track of pieces on the board\n",
    "    # Winner, an indicator for who won (1 for X, -1 for O, 0 for draw)\n",
    "    return M, Winner"
   ]
  },
  {
   "cell_type": "code",
   "execution_count": 9,
   "metadata": {},
   "outputs": [
    {
     "name": "stdout",
     "output_type": "stream",
     "text": [
      "X wins!\n"
     ]
    },
    {
     "data": {
      "image/png": "[encoded data removed]",
      "text/plain": [
       "<Figure size 432x288 with 1 Axes>"
      ]
     },
     "metadata": {
      "needs_background": "light"
     },
     "output_type": "display_data"
    }
   ],
   "source": [
    "M, Winner = f_Monte_Carlo_TTT(X_mode=1,O_mode=0,n=3,it=100)\n",
    "f_Plot_board(M,Winner)"
   ]
  },
  {
   "cell_type": "code",
   "execution_count": 10,
   "metadata": {},
   "outputs": [
    {
     "name": "stdout",
     "output_type": "stream",
     "text": [
      "O wins!\n"
     ]
    },
    {
     "data": {
      "image/png": "[encoded data removed]",
      "text/plain": [
       "<Figure size 432x288 with 1 Axes>"
      ]
     },
     "metadata": {
      "needs_background": "light"
     },
     "output_type": "display_data"
    }
   ],
   "source": [
    "M, Winner = f_Monte_Carlo_TTT(X_mode=0,O_mode=1,n=3,it=10)\n",
    "f_Plot_board(M,Winner)"
   ]
  },
  {
   "cell_type": "code",
   "execution_count": 12,
   "metadata": {},
   "outputs": [
    {
     "name": "stdout",
     "output_type": "stream",
     "text": [
      "X wins!\n"
     ]
    },
    {
     "data": {
      "image/png": "[encoded data removed]",
      "text/plain": [
       "<Figure size 432x288 with 1 Axes>"
      ]
     },
     "metadata": {
      "needs_background": "light"
     },
     "output_type": "display_data"
    }
   ],
   "source": [
    "M, Winner = f_Monte_Carlo_TTT(X_mode=1,O_mode=1,n=3,it=10)\n",
    "f_Plot_board(M,Winner)"
   ]
  },
  {
   "cell_type": "code",
   "execution_count": 9,
   "metadata": {},
   "outputs": [],
   "source": [
    "# Play N games and calculate the percent won/lost/tied\n",
    "# (using a random Monte Carlo search)\n",
    "def f_Play_N_Games(X_mode,O_mode,n=3,it=100,N=100):\n",
    "\n",
    "    Win_Count = [] # Number of wins/losses/draws\n",
    "    for i in np.arange(N):\n",
    "        _, Winner = f_Monte_Carlo_TTT(X_mode=X_mode,O_mode=O_mode,n=n,it=it) # Play a game and record Winner\n",
    "        Win_Count.append(Winner) # Append Winner to list\n",
    "\n",
    "    X_wins = np.shape(np.array(Win_Count)[np.where(np.array(Win_Count) == 1)])[0] # Total number of wins for X\n",
    "    O_wins = np.shape(np.array(Win_Count)[np.where(np.array(Win_Count) == -1)])[0] # Total number of wins for O\n",
    "    draws = np.shape(np.array(Win_Count)[np.where(np.array(Win_Count) == 0)])[0] # Total number of draws\n",
    "\n",
    "    percent_X_wins = 100*X_wins/N\n",
    "    percent_O_wins = 100*O_wins/N\n",
    "    percent_draws = 100*draws/N\n",
    "\n",
    "    print(\"Percent X wins =\", percent_X_wins, \"%\")\n",
    "    print(\"Percent O wins =\", percent_O_wins, \"%\")\n",
    "    print(\"Percent draws =\", percent_draws, \"%\")"
   ]
  },
  {
   "cell_type": "markdown",
   "metadata": {},
   "source": [
    "__________________________"
   ]
  },
  {
   "cell_type": "markdown",
   "metadata": {},
   "source": [
    "### We now test the algorithm by simulating tournaments."
   ]
  },
  {
   "cell_type": "markdown",
   "metadata": {},
   "source": [
    "### 10,000 games with both players playing randomly:"
   ]
  },
  {
   "cell_type": "code",
   "execution_count": 801,
   "metadata": {},
   "outputs": [
    {
     "name": "stdout",
     "output_type": "stream",
     "text": [
      "Percent X wins = 58.15 %\n",
      "Percent O wins = 29.04 %\n",
      "Percent draws = 12.81 %\n"
     ]
    }
   ],
   "source": [
    "f_Play_N_Games(X_mode=0,O_mode=0,n=3,it=100,N=10000)"
   ]
  },
  {
   "cell_type": "markdown",
   "metadata": {},
   "source": [
    "__________________________"
   ]
  },
  {
   "cell_type": "markdown",
   "metadata": {},
   "source": [
    "### 100 games with X using the Monte Carlo algorithm and O playing randomly:"
   ]
  },
  {
   "cell_type": "code",
   "execution_count": 802,
   "metadata": {},
   "outputs": [
    {
     "name": "stdout",
     "output_type": "stream",
     "text": [
      "Percent X wins = 91.0 %\n",
      "Percent O wins = 7.0 %\n",
      "Percent draws = 2.0 %\n"
     ]
    }
   ],
   "source": [
    "f_Play_N_Games(X_mode=1,O_mode=0,n=3,it=100,N=100)"
   ]
  },
  {
   "cell_type": "code",
   "execution_count": 804,
   "metadata": {},
   "outputs": [
    {
     "name": "stdout",
     "output_type": "stream",
     "text": [
      "Percent X wins = 88.0 %\n",
      "Percent O wins = 12.0 %\n",
      "Percent draws = 0.0 %\n"
     ]
    }
   ],
   "source": [
    "f_Play_N_Games(X_mode=1,O_mode=0,n=3,it=10,N=100)"
   ]
  },
  {
   "cell_type": "markdown",
   "metadata": {},
   "source": [
    "### Decreasing the number of Markov chains per simulation from 100 to 10 seems to only marginally worsen performance."
   ]
  },
  {
   "cell_type": "markdown",
   "metadata": {},
   "source": [
    "__________________________"
   ]
  },
  {
   "cell_type": "markdown",
   "metadata": {},
   "source": [
    "### 100 games with O using the Monte Carlo algorithm and X playing randomly:"
   ]
  },
  {
   "cell_type": "code",
   "execution_count": 13,
   "metadata": {},
   "outputs": [
    {
     "name": "stdout",
     "output_type": "stream",
     "text": [
      "Percent X wins = 2.0 %\n",
      "Percent O wins = 74.0 %\n",
      "Percent draws = 24.0 %\n"
     ]
    }
   ],
   "source": [
    "f_Play_N_Games(X_mode=0,O_mode=1,n=3,it=100,N=100)"
   ]
  },
  {
   "cell_type": "markdown",
   "metadata": {},
   "source": [
    "### When 10 Markov chains are used, O wins about 70% of the time."
   ]
  },
  {
   "cell_type": "code",
   "execution_count": 809,
   "metadata": {},
   "outputs": [
    {
     "name": "stdout",
     "output_type": "stream",
     "text": [
      "Percent X wins = 12.0 %\n",
      "Percent O wins = 71.0 %\n",
      "Percent draws = 17.0 %\n"
     ]
    }
   ],
   "source": [
    "f_Play_N_Games(X_mode=0,O_mode=1,n=3,it=10,N=100)"
   ]
  },
  {
   "cell_type": "markdown",
   "metadata": {},
   "source": [
    "__________________________"
   ]
  },
  {
   "cell_type": "markdown",
   "metadata": {},
   "source": [
    "### 100 games with both players using the Monte Carlo algorithm:"
   ]
  },
  {
   "cell_type": "code",
   "execution_count": 787,
   "metadata": {},
   "outputs": [
    {
     "name": "stdout",
     "output_type": "stream",
     "text": [
      "Percent X wins = 49.0 %\n",
      "Percent O wins = 40.0 %\n",
      "Percent draws = 11.0 %\n"
     ]
    }
   ],
   "source": [
    "f_Play_N_Games(X_mode=1,O_mode=1,n=3,it=10,N=100)"
   ]
  },
  {
   "cell_type": "markdown",
   "metadata": {},
   "source": [
    "### With both players using the Monte Carlo algorithm, X still wins more, due to its starting advantage, but its advantage is much smaller than in the random case."
   ]
  },
  {
   "cell_type": "markdown",
   "metadata": {},
   "source": [
    "______"
   ]
  },
  {
   "cell_type": "markdown",
   "metadata": {},
   "source": [
    "### To improve the algorithm, we can progressively narrow the window of the Monte Carlo search to spend extra time searching on the most promising moves, first searching over all n moves, then the best n/k moves, then the best n/k^2 moves, and so on."
   ]
  },
  {
   "cell_type": "code",
   "execution_count": 178,
   "metadata": {},
   "outputs": [],
   "source": [
    "# Plays a game of Tic-tac-toe on an n x n board,\n",
    "# using a pure Monte Carlo search algorithm.\n",
    "# Allows for the window for the Monte Carlo search\n",
    "# to be progressively decreased in size.\n",
    "def f_Exp_Window_Monte_Carlo_TTT(X_mode,O_mode,n=3,window=1,it=100):\n",
    "    # Inputs:\n",
    "    # X_mode = 1 for Monte Carlo algorithm, X_mode = 0 for random play\n",
    "    # O_mode = 1 for Monte Carlo algorithm, O_mode = 0 for random play\n",
    "    # n, the board dimension.\n",
    "    # window, the number of windows to use in search. window = 1 for 1 MC search,\n",
    "    # window = 2 for a repeated search on the 4 best moves, window = 3 for a third\n",
    "    # search on the best 2 moves.\n",
    "    # it, the number of MC simulations for each test move\n",
    "\n",
    "    pos = list(range(n**2)) # List of possible moves\n",
    "\n",
    "    # v is a list version of the matrix representing the board.\n",
    "    # It holds the moves that have been made in each position:\n",
    "    # 1 for X, -1 for O, 0 for no piece.\n",
    "    v = np.zeros(n**2)\n",
    "\n",
    "    x_moves = []\n",
    "    o_moves = []\n",
    "\n",
    "    Winner = 0 # Default to draw\n",
    "    \n",
    "    # While there is a valid move:\n",
    "    for i in np.arange(n**2):\n",
    "        if np.mod(i,2) == 0 and X_mode == 1:\n",
    "            Count_v = f_Monte_Carlo_Outcomes(pos,x_moves,o_moves,n,it)\n",
    "            # If there are at least 4 possible moves remaining,\n",
    "            # repeat the pure Monte Carlo search on the 4 best moves.\n",
    "            if np.shape(Count_v)[0] > 4 and window >= 2:\n",
    "                idxs = np.flip(np.argsort(np.array(Count_v)))[0:4]\n",
    "                pos_i = np.array(pos)[idxs]\n",
    "                Count_v = f_Monte_Carlo_Outcomes(pos_i,x_moves,o_moves,n,it)\n",
    "                # If there are at least 2 possible moves remaining,\n",
    "                # repeat the pure Monte Carlo search on the 2 best moves.\n",
    "                if np.shape(Count_v)[0] > 2 and window >= 3:\n",
    "                    idxs2 = np.flip(np.argsort(np.array(Count_v)))[0:2]\n",
    "                    pos_i = np.array(pos)[idxs2]\n",
    "                    Count_v = f_Monte_Carlo_Outcomes(pos_i,x_moves,o_moves,n,it)\n",
    "                    idxk = np.argmax(Count_v)\n",
    "                    idxj = idxs2[idxk]\n",
    "                else:\n",
    "                    idxj = np.argmax(Count_v)\n",
    "                idx = idxs[idxj]\n",
    "            else:\n",
    "                idx = np.argmax(Count_v)\n",
    "        elif np.mod(i,2) == 1 and O_mode == 1:\n",
    "            Count_v = f_Monte_Carlo_Outcomes(pos,x_moves,o_moves,n,it)\n",
    "            # If there are at least 4 possible moves remaining,\n",
    "            # repeat the pure Monte Carlo search on the 4 best moves.\n",
    "            if np.shape(Count_v)[0] >= 4 and window >= 2:\n",
    "                idxs = np.argsort(np.array(Count_v))[0:4]\n",
    "                pos_i = np.array(pos)[idxs]\n",
    "                Count_v = f_Monte_Carlo_Outcomes(pos_i,x_moves,o_moves,n,it)\n",
    "                # If there are at least 2 possible moves remaining,\n",
    "                # repeat the pure Monte Carlo search on the 2 best moves.\n",
    "                if np.shape(Count_v)[0] >= 2 and window >= 3:\n",
    "                    idxs2 = np.argsort(np.array(Count_v))[0:2]\n",
    "                    pos_i = np.array(pos)[idxs2]\n",
    "                    Count_v = f_Monte_Carlo_Outcomes(pos_i,x_moves,o_moves,n,it)\n",
    "                    idxk = np.argmin(Count_v)\n",
    "                    idxj = idxs2[idxk]\n",
    "                else:\n",
    "                    idxj = np.argmin(Count_v)\n",
    "                idx = idxs[idxj]\n",
    "            else:\n",
    "                idx = np.argmin(Count_v)\n",
    "        else:\n",
    "            idx = np.random.choice(np.arange(np.shape(pos)[0]))\n",
    "        \n",
    "        new_move = pos[idx]\n",
    "        del pos[idx]\n",
    "\n",
    "        # Append the move to the list of moves:\n",
    "        if np.mod(i,2) == 0:\n",
    "            x_moves += [new_move]\n",
    "            v[new_move] = 1\n",
    "        else:\n",
    "            o_moves += [new_move]\n",
    "            v[new_move] = -1\n",
    "\n",
    "        # Check if someone won:\n",
    "        M = np.reshape(v,[n,n]) # Reshape the list to a matrix\n",
    "        # If X occupies an entire row or an entire column or the main diagonal or the off diagonal, X wins:\n",
    "        if n in M.sum(axis=1) or n in M.sum(axis=0) or np.trace(M) == n or np.trace(np.fliplr(M)) == n:\n",
    "            Winner = 1\n",
    "            break\n",
    "        # If O occupies an entire row or an entire column or the main diagonal or the off diagonal, O wins:\n",
    "        elif -n in M.sum(axis=1) or -n in M.sum(axis=0) or np.trace(M) == -n or np.trace(np.fliplr(M)) == -n:\n",
    "            Winner = -1\n",
    "            break\n",
    "\n",
    "    # Outputs:\n",
    "    # M, a matrix which keeps track of pieces on the board\n",
    "    # Winner, an indicator for who won (1 for X, -1 for O, 0 for draw)\n",
    "    return M, Winner"
   ]
  },
  {
   "cell_type": "code",
   "execution_count": 150,
   "metadata": {},
   "outputs": [
    {
     "data": {
      "text/plain": [
       "57.0"
      ]
     },
     "execution_count": 150,
     "metadata": {},
     "output_type": "execute_result"
    }
   ],
   "source": [
    "# Compute the percentage of games in which X plays the center position as its first move:\n",
    "\n",
    "iterz = 100\n",
    "count = 0\n",
    "for i in np.arange(iterz):\n",
    "    M, Winner = f_Exp_Window_Monte_Carlo_TTT(X_mode=1,O_mode=1,n=3,it=10)\n",
    "\n",
    "    if M[1,1] == 1:\n",
    "        count += M[1,1]\n",
    "count/iterz"
   ]
  },
  {
   "cell_type": "code",
   "execution_count": 165,
   "metadata": {},
   "outputs": [],
   "source": [
    "# Play N random games and calculate the percent won/lost/tied\n",
    "# (using the windowed-version of the Monte Carlo search)\n",
    "def f_Play_N_Games2(X_mode,O_mode,n=3,it=100,window=1,N=100):\n",
    "\n",
    "    Win_Count = [] # Number of wins/losses/draws\n",
    "    for i in np.arange(N):\n",
    "        _, Winner = f_Exp_Window_Monte_Carlo_TTT(X_mode=X_mode,O_mode=O_mode,n=n,window=window,it=it) # Play a game and record Winner\n",
    "        Win_Count.append(Winner) # Append Winner to list\n",
    "\n",
    "    X_wins = np.shape(np.array(Win_Count)[np.where(np.array(Win_Count) == 1)])[0] # Total number of wins for X\n",
    "    O_wins = np.shape(np.array(Win_Count)[np.where(np.array(Win_Count) == -1)])[0] # Total number of wins for O\n",
    "    draws = np.shape(np.array(Win_Count)[np.where(np.array(Win_Count) == 0)])[0] # Total number of draws\n",
    "\n",
    "    percent_X_wins = 100*X_wins/N\n",
    "    percent_O_wins = 100*O_wins/N\n",
    "    percent_draws = 100*draws/N\n",
    "\n",
    "    print(\"Percent X wins =\", percent_X_wins, \"%\")\n",
    "    print(\"Percent O wins =\", percent_O_wins, \"%\")\n",
    "    print(\"Percent draws =\", percent_draws, \"%\")"
   ]
  },
  {
   "cell_type": "code",
   "execution_count": 176,
   "metadata": {},
   "outputs": [
    {
     "name": "stdout",
     "output_type": "stream",
     "text": [
      "Percent X wins = 95.0 %\n",
      "Percent O wins = 5.0 %\n",
      "Percent draws = 0.0 %\n"
     ]
    }
   ],
   "source": [
    "f_Play_N_Games2(X_mode=1,O_mode=0,n=3,it=100,window=1,N=100)"
   ]
  },
  {
   "cell_type": "code",
   "execution_count": 158,
   "metadata": {},
   "outputs": [
    {
     "name": "stdout",
     "output_type": "stream",
     "text": [
      "Percent X wins = 95.0 %\n",
      "Percent O wins = 4.0 %\n",
      "Percent draws = 1.0 %\n"
     ]
    }
   ],
   "source": [
    "f_Play_N_Games2(X_mode=1,O_mode=0,n=3,it=100,window=2,N=100)"
   ]
  },
  {
   "cell_type": "code",
   "execution_count": 153,
   "metadata": {},
   "outputs": [
    {
     "name": "stdout",
     "output_type": "stream",
     "text": [
      "Percent X wins = 90.0 %\n",
      "Percent O wins = 10.0 %\n",
      "Percent draws = 0.0 %\n"
     ]
    }
   ],
   "source": [
    "f_Play_N_Games2(X_mode=1,O_mode=0,n=3,it=100,window=3,N=100)"
   ]
  },
  {
   "cell_type": "code",
   "execution_count": 177,
   "metadata": {},
   "outputs": [
    {
     "name": "stdout",
     "output_type": "stream",
     "text": [
      "Percent X wins = 1.0 %\n",
      "Percent O wins = 76.0 %\n",
      "Percent draws = 23.0 %\n"
     ]
    }
   ],
   "source": [
    "f_Play_N_Games2(X_mode=0,O_mode=1,n=3,it=100,window=1,N=100)"
   ]
  },
  {
   "cell_type": "code",
   "execution_count": 160,
   "metadata": {},
   "outputs": [
    {
     "name": "stdout",
     "output_type": "stream",
     "text": [
      "Percent X wins = 3.0 %\n",
      "Percent O wins = 65.0 %\n",
      "Percent draws = 32.0 %\n"
     ]
    }
   ],
   "source": [
    "f_Play_N_Games2(X_mode=0,O_mode=1,n=3,it=100,window=2,N=100)"
   ]
  },
  {
   "cell_type": "code",
   "execution_count": 154,
   "metadata": {},
   "outputs": [
    {
     "name": "stdout",
     "output_type": "stream",
     "text": [
      "Percent X wins = 18.0 %\n",
      "Percent O wins = 63.0 %\n",
      "Percent draws = 19.0 %\n"
     ]
    }
   ],
   "source": [
    "f_Play_N_Games2(X_mode=0,O_mode=1,n=3,it=100,window=3,N=100)"
   ]
  },
  {
   "cell_type": "code",
   "execution_count": null,
   "metadata": {},
   "outputs": [],
   "source": [
    "# The window method actually seems to make things worse."
   ]
  }
 ],
 "metadata": {
  "kernelspec": {
   "display_name": "Python 3",
   "language": "python",
   "name": "python3"
  },
  "language_info": {
   "codemirror_mode": {
    "name": "ipython",
    "version": 3
   },
   "file_extension": ".py",
   "mimetype": "text/x-python",
   "name": "python",
   "nbconvert_exporter": "python",
   "pygments_lexer": "ipython3",
   "version": "3.7.4"
  }
 },
 "nbformat": 4,
 "nbformat_minor": 2
}
